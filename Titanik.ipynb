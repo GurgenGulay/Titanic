{
  "nbformat": 4,
  "nbformat_minor": 0,
  "metadata": {
    "colab": {
      "provenance": [],
      "authorship_tag": "ABX9TyPgI0XsGxqlHqdB82F1dD2G",
      "include_colab_link": true
    },
    "kernelspec": {
      "name": "python3",
      "display_name": "Python 3"
    },
    "language_info": {
      "name": "python"
    }
  },
  "cells": [
    {
      "cell_type": "markdown",
      "metadata": {
        "id": "view-in-github",
        "colab_type": "text"
      },
      "source": [
        "<a href=\"https://colab.research.google.com/github/GurgenGulay/Titanic/blob/main/Titanik.ipynb\" target=\"_parent\"><img src=\"https://colab.research.google.com/assets/colab-badge.svg\" alt=\"Open In Colab\"/></a>"
      ]
    },
    {
      "cell_type": "code",
      "execution_count": null,
      "metadata": {
        "id": "9VJdrsr9MlnV"
      },
      "outputs": [],
      "source": [
        "import numpy as np\n",
        "import pandas as pd\n",
        "import seaborn as sns\n",
        "from matplotlib import pyplot as plt\n",
        "# !pip install missingno\n",
        "import missingno as msno\n",
        "from datetime import date\n",
        "from sklearn.metrics import accuracy_score\n",
        "from sklearn.model_selection import train_test_split\n",
        "from sklearn.neighbors import LocalOutlierFactor\n",
        "from sklearn.preprocessing import MinMaxScaler, LabelEncoder, StandardScaler, RobustScaler\n",
        "\n",
        "# Görsel ayarlamalar\n",
        "pd.set_option('display.max_columns', None)\n",
        "pd.set_option('display.max_rows', None)\n",
        "pd.set_option('display.float_format', lambda x: '%.3f' % x)\n",
        "pd.set_option('display.width', 500)\n"
      ]
    },
    {
      "cell_type": "code",
      "source": [
        "file_path = '/content/titanic.csv'\n",
        "df = pd.read_csv(file_path)\n",
        "\n",
        "print(df.head())"
      ],
      "metadata": {
        "colab": {
          "base_uri": "https://localhost:8080/",
          "height": 339
        },
        "id": "8qaiw0D7dsMt",
        "outputId": "4f39cef9-951c-4db3-e59d-5a4e7ab0bace"
      },
      "execution_count": null,
      "outputs": [
        {
          "output_type": "error",
          "ename": "FileNotFoundError",
          "evalue": "[Errno 2] No such file or directory: '/content/titanic.csv'",
          "traceback": [
            "\u001b[0;31m---------------------------------------------------------------------------\u001b[0m",
            "\u001b[0;31mFileNotFoundError\u001b[0m                         Traceback (most recent call last)",
            "\u001b[0;32m<ipython-input-2-059a58b15621>\u001b[0m in \u001b[0;36m<cell line: 2>\u001b[0;34m()\u001b[0m\n\u001b[1;32m      1\u001b[0m \u001b[0mfile_path\u001b[0m \u001b[0;34m=\u001b[0m \u001b[0;34m'/content/titanic.csv'\u001b[0m\u001b[0;34m\u001b[0m\u001b[0;34m\u001b[0m\u001b[0m\n\u001b[0;32m----> 2\u001b[0;31m \u001b[0mdf\u001b[0m \u001b[0;34m=\u001b[0m \u001b[0mpd\u001b[0m\u001b[0;34m.\u001b[0m\u001b[0mread_csv\u001b[0m\u001b[0;34m(\u001b[0m\u001b[0mfile_path\u001b[0m\u001b[0;34m)\u001b[0m\u001b[0;34m\u001b[0m\u001b[0;34m\u001b[0m\u001b[0m\n\u001b[0m\u001b[1;32m      3\u001b[0m \u001b[0;34m\u001b[0m\u001b[0m\n\u001b[1;32m      4\u001b[0m \u001b[0mprint\u001b[0m\u001b[0;34m(\u001b[0m\u001b[0mdf\u001b[0m\u001b[0;34m.\u001b[0m\u001b[0mhead\u001b[0m\u001b[0;34m(\u001b[0m\u001b[0;34m)\u001b[0m\u001b[0;34m)\u001b[0m\u001b[0;34m\u001b[0m\u001b[0;34m\u001b[0m\u001b[0m\n",
            "\u001b[0;32m/usr/local/lib/python3.10/dist-packages/pandas/io/parsers/readers.py\u001b[0m in \u001b[0;36mread_csv\u001b[0;34m(filepath_or_buffer, sep, delimiter, header, names, index_col, usecols, dtype, engine, converters, true_values, false_values, skipinitialspace, skiprows, skipfooter, nrows, na_values, keep_default_na, na_filter, verbose, skip_blank_lines, parse_dates, infer_datetime_format, keep_date_col, date_parser, date_format, dayfirst, cache_dates, iterator, chunksize, compression, thousands, decimal, lineterminator, quotechar, quoting, doublequote, escapechar, comment, encoding, encoding_errors, dialect, on_bad_lines, delim_whitespace, low_memory, memory_map, float_precision, storage_options, dtype_backend)\u001b[0m\n\u001b[1;32m    910\u001b[0m     \u001b[0mkwds\u001b[0m\u001b[0;34m.\u001b[0m\u001b[0mupdate\u001b[0m\u001b[0;34m(\u001b[0m\u001b[0mkwds_defaults\u001b[0m\u001b[0;34m)\u001b[0m\u001b[0;34m\u001b[0m\u001b[0;34m\u001b[0m\u001b[0m\n\u001b[1;32m    911\u001b[0m \u001b[0;34m\u001b[0m\u001b[0m\n\u001b[0;32m--> 912\u001b[0;31m     \u001b[0;32mreturn\u001b[0m \u001b[0m_read\u001b[0m\u001b[0;34m(\u001b[0m\u001b[0mfilepath_or_buffer\u001b[0m\u001b[0;34m,\u001b[0m \u001b[0mkwds\u001b[0m\u001b[0;34m)\u001b[0m\u001b[0;34m\u001b[0m\u001b[0;34m\u001b[0m\u001b[0m\n\u001b[0m\u001b[1;32m    913\u001b[0m \u001b[0;34m\u001b[0m\u001b[0m\n\u001b[1;32m    914\u001b[0m \u001b[0;34m\u001b[0m\u001b[0m\n",
            "\u001b[0;32m/usr/local/lib/python3.10/dist-packages/pandas/io/parsers/readers.py\u001b[0m in \u001b[0;36m_read\u001b[0;34m(filepath_or_buffer, kwds)\u001b[0m\n\u001b[1;32m    575\u001b[0m \u001b[0;34m\u001b[0m\u001b[0m\n\u001b[1;32m    576\u001b[0m     \u001b[0;31m# Create the parser.\u001b[0m\u001b[0;34m\u001b[0m\u001b[0;34m\u001b[0m\u001b[0m\n\u001b[0;32m--> 577\u001b[0;31m     \u001b[0mparser\u001b[0m \u001b[0;34m=\u001b[0m \u001b[0mTextFileReader\u001b[0m\u001b[0;34m(\u001b[0m\u001b[0mfilepath_or_buffer\u001b[0m\u001b[0;34m,\u001b[0m \u001b[0;34m**\u001b[0m\u001b[0mkwds\u001b[0m\u001b[0;34m)\u001b[0m\u001b[0;34m\u001b[0m\u001b[0;34m\u001b[0m\u001b[0m\n\u001b[0m\u001b[1;32m    578\u001b[0m \u001b[0;34m\u001b[0m\u001b[0m\n\u001b[1;32m    579\u001b[0m     \u001b[0;32mif\u001b[0m \u001b[0mchunksize\u001b[0m \u001b[0;32mor\u001b[0m \u001b[0miterator\u001b[0m\u001b[0;34m:\u001b[0m\u001b[0;34m\u001b[0m\u001b[0;34m\u001b[0m\u001b[0m\n",
            "\u001b[0;32m/usr/local/lib/python3.10/dist-packages/pandas/io/parsers/readers.py\u001b[0m in \u001b[0;36m__init__\u001b[0;34m(self, f, engine, **kwds)\u001b[0m\n\u001b[1;32m   1405\u001b[0m \u001b[0;34m\u001b[0m\u001b[0m\n\u001b[1;32m   1406\u001b[0m         \u001b[0mself\u001b[0m\u001b[0;34m.\u001b[0m\u001b[0mhandles\u001b[0m\u001b[0;34m:\u001b[0m \u001b[0mIOHandles\u001b[0m \u001b[0;34m|\u001b[0m \u001b[0;32mNone\u001b[0m \u001b[0;34m=\u001b[0m \u001b[0;32mNone\u001b[0m\u001b[0;34m\u001b[0m\u001b[0;34m\u001b[0m\u001b[0m\n\u001b[0;32m-> 1407\u001b[0;31m         \u001b[0mself\u001b[0m\u001b[0;34m.\u001b[0m\u001b[0m_engine\u001b[0m \u001b[0;34m=\u001b[0m \u001b[0mself\u001b[0m\u001b[0;34m.\u001b[0m\u001b[0m_make_engine\u001b[0m\u001b[0;34m(\u001b[0m\u001b[0mf\u001b[0m\u001b[0;34m,\u001b[0m \u001b[0mself\u001b[0m\u001b[0;34m.\u001b[0m\u001b[0mengine\u001b[0m\u001b[0;34m)\u001b[0m\u001b[0;34m\u001b[0m\u001b[0;34m\u001b[0m\u001b[0m\n\u001b[0m\u001b[1;32m   1408\u001b[0m \u001b[0;34m\u001b[0m\u001b[0m\n\u001b[1;32m   1409\u001b[0m     \u001b[0;32mdef\u001b[0m \u001b[0mclose\u001b[0m\u001b[0;34m(\u001b[0m\u001b[0mself\u001b[0m\u001b[0;34m)\u001b[0m \u001b[0;34m->\u001b[0m \u001b[0;32mNone\u001b[0m\u001b[0;34m:\u001b[0m\u001b[0;34m\u001b[0m\u001b[0;34m\u001b[0m\u001b[0m\n",
            "\u001b[0;32m/usr/local/lib/python3.10/dist-packages/pandas/io/parsers/readers.py\u001b[0m in \u001b[0;36m_make_engine\u001b[0;34m(self, f, engine)\u001b[0m\n\u001b[1;32m   1659\u001b[0m                 \u001b[0;32mif\u001b[0m \u001b[0;34m\"b\"\u001b[0m \u001b[0;32mnot\u001b[0m \u001b[0;32min\u001b[0m \u001b[0mmode\u001b[0m\u001b[0;34m:\u001b[0m\u001b[0;34m\u001b[0m\u001b[0;34m\u001b[0m\u001b[0m\n\u001b[1;32m   1660\u001b[0m                     \u001b[0mmode\u001b[0m \u001b[0;34m+=\u001b[0m \u001b[0;34m\"b\"\u001b[0m\u001b[0;34m\u001b[0m\u001b[0;34m\u001b[0m\u001b[0m\n\u001b[0;32m-> 1661\u001b[0;31m             self.handles = get_handle(\n\u001b[0m\u001b[1;32m   1662\u001b[0m                 \u001b[0mf\u001b[0m\u001b[0;34m,\u001b[0m\u001b[0;34m\u001b[0m\u001b[0;34m\u001b[0m\u001b[0m\n\u001b[1;32m   1663\u001b[0m                 \u001b[0mmode\u001b[0m\u001b[0;34m,\u001b[0m\u001b[0;34m\u001b[0m\u001b[0;34m\u001b[0m\u001b[0m\n",
            "\u001b[0;32m/usr/local/lib/python3.10/dist-packages/pandas/io/common.py\u001b[0m in \u001b[0;36mget_handle\u001b[0;34m(path_or_buf, mode, encoding, compression, memory_map, is_text, errors, storage_options)\u001b[0m\n\u001b[1;32m    857\u001b[0m         \u001b[0;32mif\u001b[0m \u001b[0mioargs\u001b[0m\u001b[0;34m.\u001b[0m\u001b[0mencoding\u001b[0m \u001b[0;32mand\u001b[0m \u001b[0;34m\"b\"\u001b[0m \u001b[0;32mnot\u001b[0m \u001b[0;32min\u001b[0m \u001b[0mioargs\u001b[0m\u001b[0;34m.\u001b[0m\u001b[0mmode\u001b[0m\u001b[0;34m:\u001b[0m\u001b[0;34m\u001b[0m\u001b[0;34m\u001b[0m\u001b[0m\n\u001b[1;32m    858\u001b[0m             \u001b[0;31m# Encoding\u001b[0m\u001b[0;34m\u001b[0m\u001b[0;34m\u001b[0m\u001b[0m\n\u001b[0;32m--> 859\u001b[0;31m             handle = open(\n\u001b[0m\u001b[1;32m    860\u001b[0m                 \u001b[0mhandle\u001b[0m\u001b[0;34m,\u001b[0m\u001b[0;34m\u001b[0m\u001b[0;34m\u001b[0m\u001b[0m\n\u001b[1;32m    861\u001b[0m                 \u001b[0mioargs\u001b[0m\u001b[0;34m.\u001b[0m\u001b[0mmode\u001b[0m\u001b[0;34m,\u001b[0m\u001b[0;34m\u001b[0m\u001b[0;34m\u001b[0m\u001b[0m\n",
            "\u001b[0;31mFileNotFoundError\u001b[0m: [Errno 2] No such file or directory: '/content/titanic.csv'"
          ]
        }
      ]
    },
    {
      "cell_type": "code",
      "source": [
        "df.shape"
      ],
      "metadata": {
        "id": "_sU0St1rxqps"
      },
      "execution_count": null,
      "outputs": []
    },
    {
      "cell_type": "markdown",
      "source": [
        "# Data Preprocessing"
      ],
      "metadata": {
        "id": "0YAso3GljmVu"
      }
    },
    {
      "cell_type": "markdown",
      "source": [
        "## 1. Feature Engineering (Değişken Mühendisliği)"
      ],
      "metadata": {
        "id": "ey986TSfeqA0"
      }
    },
    {
      "cell_type": "code",
      "source": [
        "df.columns = [col.upper() for col in df.columns]\n",
        "df.head()"
      ],
      "metadata": {
        "id": "UpFayLaNdshc"
      },
      "execution_count": null,
      "outputs": []
    },
    {
      "cell_type": "code",
      "source": [
        "df[\"NEW_CABIN_BOOL\"] = df[\"CABIN\"].notnull().astype('int64')\n",
        "\n",
        "df[\"NEW_NAME_COUNT\"] = df[\"NAME\"].str.len()\n",
        "\n",
        "df[\"NEW_NAME_WORD_COUNT\"] = df[\"NAME\"].apply(lambda x: len(str(x).split(\" \")))\n",
        "\n",
        "df[\"NEW_NAME_DR\"] = df[\"NAME\"].apply(lambda x: len([x for x in x.split() if x.startswith(\"Dr\")]))\n",
        "\n",
        "df[\"NEW_TITLE\"] = df.NAME.str.extract(' ([A-Za-z]+)\\.', expand=False)\n",
        "\n",
        "df[\"NEW_AGE_PCLASS\"] = df[\"AGE\"] * df[\"PCLASS\"]\n",
        "\n",
        "df[\"NEW_FAMILY_SIZE\"] = df[\"SIBSP\"] + df[\"PARCH\"] + 1\n",
        "\n",
        "df.loc[((df[\"SIBSP\"] + df[\"PARCH\"]) > 0), \"NEW_IS_ALONE\"] = \"NO\"\n",
        "df.loc[((df[\"SIBSP\"] + df[\"PARCH\"]) == 0), \"NEW_IS_ALONE\"] = \"YES\"\n",
        "\n",
        "df.loc[(df[\"AGE\"] < 18), \"NEW_AGE_CAT\"] = \"young\"\n",
        "df.loc[(df[\"AGE\"] >= 18) & (df[\"AGE\"] < 56), \"NEW_AGE_CAT\"] = \"mature\"\n",
        "df.loc[(df[\"AGE\"] >= 56), \"NEW_AGE_CAT\"] = \"senior\"\n",
        "\n",
        "df.loc[(df[\"SEX\"] == \"male\") & (df[\"AGE\"] <= 21), \"NEW_SEX_CAT\"] = \"youngmale\"\n",
        "df.loc[(df[\"SEX\"] == \"male\") & (df[\"AGE\"] > 21) & (df[\"AGE\"] <= 50), \"NEW_SEX_CAT\"] = \"maturemale\"\n",
        "df.loc[(df[\"SEX\"] == \"male\") & (df[\"AGE\"] > 50), \"NEW_SEX_CAT\"] = \"seniormale\"\n",
        "df.loc[(df[\"SEX\"] == \"female\") & (df[\"AGE\"] <= 21), \"NEW_SEX_CAT\"] = \"youngfemale\"\n",
        "df.loc[(df[\"SEX\"] == \"female\") & (df[\"AGE\"] > 21) & (df[\"AGE\"] <= 50), \"NEW_SEX_CAT\"] = \"maturefemale\"\n",
        "df.loc[(df[\"SEX\"] == \"female\") & (df[\"AGE\"] > 50), \"NEW_SEX_CAT\"] = \"seniorfemale\"\n",
        "\n",
        "\n",
        "df.head()"
      ],
      "metadata": {
        "id": "6cMuJM11ds4_"
      },
      "execution_count": null,
      "outputs": []
    },
    {
      "cell_type": "markdown",
      "source": [
        "\n",
        "\n",
        "*       \n",
        "  Veri setindeki kategorik, numerik ve kategorik fakat kardinal değişkenlerin isimlerini verir.\n",
        "*   Not: Kategorik değişkenlerin içerisine numerik görünümlü kategorik değişkenler de dahildir.\n",
        "\n",
        "\n"
      ],
      "metadata": {
        "id": "gllk0RGYfIPS"
      }
    },
    {
      "cell_type": "code",
      "source": [
        "def grab_col_names(dataframe, cat_th=10, car_th=20):\n",
        "    # cat_cols, cat_but_car\n",
        "    cat_cols = [col for col in dataframe.columns if dataframe[col].dtypes == \"O\"]\n",
        "    num_but_cat = [col for col in dataframe.columns if dataframe[col].nunique() < cat_th and\n",
        "                   dataframe[col].dtypes != \"O\"]\n",
        "    cat_but_car = [col for col in dataframe.columns if dataframe[col].nunique() > car_th and\n",
        "                   dataframe[col].dtypes == \"O\"]\n",
        "    cat_cols = cat_cols + num_but_cat\n",
        "    cat_cols = [col for col in cat_cols if col not in cat_but_car]\n",
        "\n",
        "    # num_cols\n",
        "    num_cols = [col for col in dataframe.columns if dataframe[col].dtypes != \"O\"]\n",
        "    num_cols = [col for col in num_cols if col not in num_but_cat]\n",
        "\n",
        "    print(f\"Observations(Gözlem): {dataframe.shape[0]}\")\n",
        "    print(f\"Variables(Değişken): {dataframe.shape[1]}\")\n",
        "    print(f'cat_cols(kategorik Değişken): {len(cat_cols)}')\n",
        "    print(f'num_cols(Numerik değişken): {len(num_cols)}')\n",
        "    print(f'cat_but_car(Kardinal değişken): {len(cat_but_car)}')\n",
        "    print(f'num_but_cat: {len(num_but_cat)}')\n",
        "    return cat_cols, num_cols, cat_but_car"
      ],
      "metadata": {
        "id": "ZUCthBJDdtLR"
      },
      "execution_count": null,
      "outputs": []
    },
    {
      "cell_type": "code",
      "source": [
        "cat_cols, num_cols, cat_but_car = grab_col_names(df)"
      ],
      "metadata": {
        "id": "A6nHWWywfYu0"
      },
      "execution_count": null,
      "outputs": []
    },
    {
      "cell_type": "code",
      "source": [
        "cat_cols"
      ],
      "metadata": {
        "id": "Zrp7Lngtfgws"
      },
      "execution_count": null,
      "outputs": []
    },
    {
      "cell_type": "code",
      "source": [
        "num_cols"
      ],
      "metadata": {
        "id": "09Aw_WOwfkVk"
      },
      "execution_count": null,
      "outputs": []
    },
    {
      "cell_type": "code",
      "source": [
        "cat_but_car"
      ],
      "metadata": {
        "id": "dRswuFJTfl8k"
      },
      "execution_count": null,
      "outputs": []
    },
    {
      "cell_type": "code",
      "source": [
        "num_cols = [col for col in num_cols if \"PASSENGERID\" not in col]\n",
        "num_cols"
      ],
      "metadata": {
        "id": "PCmlIdXZfoP4"
      },
      "execution_count": null,
      "outputs": []
    },
    {
      "cell_type": "markdown",
      "source": [
        "## 2. Outliers (Aykırı Değerler)"
      ],
      "metadata": {
        "id": "S2n586nDfq1e"
      }
    },
    {
      "cell_type": "code",
      "source": [
        "def outlier_thresholds(dataframe, col_name, q1=0.25, q3=0.75):\n",
        "    quartile1 = dataframe[col_name].quantile(q1)\n",
        "    quartile3 = dataframe[col_name].quantile(q3)\n",
        "    interquantile_range = quartile3 - quartile1\n",
        "    up_limit = quartile3 + 1.5 * interquantile_range\n",
        "    low_limit = quartile1 - 1.5 * interquantile_range\n",
        "    return low_limit, up_limit"
      ],
      "metadata": {
        "id": "zqcAnIF-fsTO"
      },
      "execution_count": null,
      "outputs": []
    },
    {
      "cell_type": "code",
      "source": [
        "def check_outlier(dataframe, col_name):\n",
        "    low_limit, up_limit = outlier_thresholds(dataframe, col_name)\n",
        "    if dataframe[(dataframe[col_name] > up_limit) | (dataframe[col_name] < low_limit)].any(axis=None):\n",
        "        return True\n",
        "    else:\n",
        "        return False\n",
        "\n",
        "\n",
        "for col in num_cols:\n",
        "    print(col, check_outlier(df, col))"
      ],
      "metadata": {
        "id": "LNC5cF3yf1nX"
      },
      "execution_count": null,
      "outputs": []
    },
    {
      "cell_type": "code",
      "source": [
        "def replace_with_thresholds(dataframe, variable):\n",
        "  low_limit, up_limit = outlier_thresholds(dataframe, variable)\n",
        "  dataframe.loc[(dataframe[variable] < low_limit), variable] = low_limit\n",
        "  dataframe.loc[(dataframe[variable] > up_limit), variable] = up_limit"
      ],
      "metadata": {
        "id": "3fAz0jpRf43n"
      },
      "execution_count": null,
      "outputs": []
    },
    {
      "cell_type": "code",
      "source": [
        "for col in num_cols:\n",
        "    replace_with_thresholds(df, col)"
      ],
      "metadata": {
        "id": "lNbWuHLif7ir"
      },
      "execution_count": null,
      "outputs": []
    },
    {
      "cell_type": "code",
      "source": [
        "for col in num_cols:\n",
        "    print(col, check_outlier(df, col))"
      ],
      "metadata": {
        "id": "AisL7boEf89j"
      },
      "execution_count": null,
      "outputs": []
    },
    {
      "cell_type": "markdown",
      "source": [
        "## 3. Missing Values (Eksik Değerler)"
      ],
      "metadata": {
        "id": "IE-k_0YJgMEf"
      }
    },
    {
      "cell_type": "code",
      "source": [
        "def missing_values_table(dataframe, na_name=False):\n",
        "    na_columns = [col for col in dataframe.columns if dataframe[col].isnull().sum() > 0]\n",
        "\n",
        "    n_miss = dataframe[na_columns].isnull().sum().sort_values(ascending=False)\n",
        "    ratio = (dataframe[na_columns].isnull().sum() / dataframe.shape[0] * 100).sort_values(ascending=False)\n",
        "    missing_df = pd.concat([n_miss, np.round(ratio, 2)], axis=1, keys=['n_miss', 'ratio'])\n",
        "    print(missing_df, end=\"\\n\")\n",
        "\n",
        "    if na_name:\n",
        "        return na_columns"
      ],
      "metadata": {
        "id": "cWXiBOVdgMcR"
      },
      "execution_count": null,
      "outputs": []
    },
    {
      "cell_type": "code",
      "source": [
        "missing_values_table(df)"
      ],
      "metadata": {
        "id": "u0Iw9RozgRgT"
      },
      "execution_count": null,
      "outputs": []
    },
    {
      "cell_type": "code",
      "source": [
        "df.drop(\"CABIN\", inplace=True, axis=1)\n",
        "\n",
        "missing_values_table(df)"
      ],
      "metadata": {
        "id": "my8L-YregVok"
      },
      "execution_count": null,
      "outputs": []
    },
    {
      "cell_type": "code",
      "source": [
        "remove_cols = [\"TICKET\", \"NAME\"]\n",
        "\n",
        "missing_values_table(df)"
      ],
      "metadata": {
        "id": "AdQieiU5gbTJ"
      },
      "execution_count": null,
      "outputs": []
    },
    {
      "cell_type": "code",
      "source": [
        "df.drop(remove_cols, inplace=True, axis=1)\n",
        "\n",
        "df[\"AGE\"] = df[\"AGE\"].fillna(df.groupby(\"NEW_TITLE\")[\"AGE\"].transform(\"median\"))\n",
        "missing_values_table(df)"
      ],
      "metadata": {
        "id": "tYkfoHvUgfKL"
      },
      "execution_count": null,
      "outputs": []
    },
    {
      "cell_type": "code",
      "source": [
        "df[\"NEW_AGE_PCLASS\"] = df[\"AGE\"] * df[\"PCLASS\"]"
      ],
      "metadata": {
        "id": "ZL9OlsqDgmRP"
      },
      "execution_count": null,
      "outputs": []
    },
    {
      "cell_type": "code",
      "source": [
        "missing_values_table(df)"
      ],
      "metadata": {
        "id": "jxeiQr4mgvMy"
      },
      "execution_count": null,
      "outputs": []
    },
    {
      "cell_type": "code",
      "source": [
        "df = df.apply(lambda x: x.fillna(x.mode()[0]) if (x.dtype == \"O\" and len(x.unique()) <= 10) else x, axis=0)\n",
        "\n",
        "missing_values_table(df)"
      ],
      "metadata": {
        "id": "lwo4Y8gugzwW"
      },
      "execution_count": null,
      "outputs": []
    },
    {
      "cell_type": "markdown",
      "source": [
        "## 4. Label Encoding"
      ],
      "metadata": {
        "id": "Ds87ysKNg5J8"
      }
    },
    {
      "cell_type": "code",
      "source": [
        "def label_encoder(dataframe, binary_col):\n",
        "    labelencoder = LabelEncoder()\n",
        "    dataframe[binary_col] = labelencoder.fit_transform(dataframe[binary_col])\n",
        "    return dataframe"
      ],
      "metadata": {
        "id": "1SMWfQTWhCyl"
      },
      "execution_count": null,
      "outputs": []
    },
    {
      "cell_type": "code",
      "source": [
        "binary_cols = [col for col in df.columns if df[col].dtype not in [\"int64\", \"float64\"]\n",
        "               and df[col].nunique() == 2]\n",
        "binary_cols"
      ],
      "metadata": {
        "colab": {
          "base_uri": "https://localhost:8080/"
        },
        "id": "57PbAv1yg4xV",
        "outputId": "95bfaed0-8751-4cdd-f19e-d703e629b231"
      },
      "execution_count": null,
      "outputs": [
        {
          "output_type": "execute_result",
          "data": {
            "text/plain": [
              "['SEX', 'NEW_IS_ALONE']"
            ]
          },
          "metadata": {},
          "execution_count": 104
        }
      ]
    },
    {
      "cell_type": "code",
      "source": [
        "for col in binary_cols:\n",
        "    df = label_encoder(df, col)"
      ],
      "metadata": {
        "id": "mqAqtc-shDHH"
      },
      "execution_count": null,
      "outputs": []
    },
    {
      "cell_type": "markdown",
      "source": [
        "## 5. Rare Encoding"
      ],
      "metadata": {
        "id": "rfr5kE9eg8rr"
      }
    },
    {
      "cell_type": "code",
      "source": [
        "def rare_analyser(dataframe, target, cat_cols):\n",
        "    for col in cat_cols:\n",
        "        print(col, \":\", len(dataframe[col].value_counts()))\n",
        "        print(pd.DataFrame({\"COUNT\": dataframe[col].value_counts(),\n",
        "                            \"RATIO\": dataframe[col].value_counts() / len(dataframe),\n",
        "                            \"TARGET_MEAN\": dataframe.groupby(col)[target].mean()}), end=\"\\n\\n\\n\")\n",
        "\n",
        "\n",
        "\n",
        "rare_analyser(df, \"SURVIVED\", cat_cols)"
      ],
      "metadata": {
        "colab": {
          "base_uri": "https://localhost:8080/"
        },
        "id": "TWJlgYzhg-7r",
        "outputId": "4c4b0efd-254f-442e-8ba5-d870894c3609"
      },
      "execution_count": null,
      "outputs": [
        {
          "output_type": "stream",
          "name": "stdout",
          "text": [
            "SEX : 2\n",
            "   COUNT  RATIO  TARGET_MEAN\n",
            "0    314  0.352        0.742\n",
            "1    577  0.648        0.189\n",
            "\n",
            "\n",
            "EMBARKED : 3\n",
            "   COUNT  RATIO  TARGET_MEAN\n",
            "C    168  0.189        0.554\n",
            "Q     77  0.086        0.390\n",
            "S    646  0.725        0.339\n",
            "\n",
            "\n",
            "NEW_TITLE : 17\n",
            "          COUNT  RATIO  TARGET_MEAN\n",
            "Capt          1  0.001        0.000\n",
            "Col           2  0.002        0.500\n",
            "Countess      1  0.001        1.000\n",
            "Don           1  0.001        0.000\n",
            "Dr            7  0.008        0.429\n",
            "Jonkheer      1  0.001        0.000\n",
            "Lady          1  0.001        1.000\n",
            "Major         2  0.002        0.500\n",
            "Master       40  0.045        0.575\n",
            "Miss        182  0.204        0.698\n",
            "Mlle          2  0.002        1.000\n",
            "Mme           1  0.001        1.000\n",
            "Mr          517  0.580        0.157\n",
            "Mrs         125  0.140        0.792\n",
            "Ms            1  0.001        1.000\n",
            "Rev           6  0.007        0.000\n",
            "Sir           1  0.001        1.000\n",
            "\n",
            "\n",
            "NEW_IS_ALONE : 2\n",
            "   COUNT  RATIO  TARGET_MEAN\n",
            "0    354  0.397        0.506\n",
            "1    537  0.603        0.304\n",
            "\n",
            "\n",
            "NEW_AGE_CAT : 3\n",
            "        COUNT  RATIO  TARGET_MEAN\n",
            "mature    739  0.829        0.364\n",
            "senior     39  0.044        0.308\n",
            "young     113  0.127        0.540\n",
            "\n",
            "\n",
            "NEW_SEX_CAT : 6\n",
            "              COUNT  RATIO  TARGET_MEAN\n",
            "maturefemale    160  0.180        0.775\n",
            "maturemale      463  0.520        0.235\n",
            "seniorfemale     17  0.019        0.941\n",
            "seniormale       47  0.053        0.128\n",
            "youngfemale      84  0.094        0.679\n",
            "youngmale       120  0.135        0.250\n",
            "\n",
            "\n",
            "SURVIVED : 2\n",
            "   COUNT  RATIO  TARGET_MEAN\n",
            "0    549  0.616        0.000\n",
            "1    342  0.384        1.000\n",
            "\n",
            "\n",
            "PCLASS : 3\n",
            "   COUNT  RATIO  TARGET_MEAN\n",
            "1    216  0.242        0.630\n",
            "2    184  0.207        0.473\n",
            "3    491  0.551        0.242\n",
            "\n",
            "\n",
            "SIBSP : 7\n",
            "   COUNT  RATIO  TARGET_MEAN\n",
            "0    608  0.682        0.345\n",
            "1    209  0.235        0.536\n",
            "2     28  0.031        0.464\n",
            "3     16  0.018        0.250\n",
            "4     18  0.020        0.167\n",
            "5      5  0.006        0.000\n",
            "8      7  0.008        0.000\n",
            "\n",
            "\n",
            "PARCH : 7\n",
            "   COUNT  RATIO  TARGET_MEAN\n",
            "0    678  0.761        0.344\n",
            "1    118  0.132        0.551\n",
            "2     80  0.090        0.500\n",
            "3      5  0.006        0.600\n",
            "4      4  0.004        0.000\n",
            "5      5  0.006        0.200\n",
            "6      1  0.001        0.000\n",
            "\n",
            "\n",
            "NEW_CABIN_BOOL : 2\n",
            "   COUNT  RATIO  TARGET_MEAN\n",
            "0    687  0.771        0.300\n",
            "1    204  0.229        0.667\n",
            "\n",
            "\n",
            "NEW_NAME_WORD_COUNT : 8\n",
            "    COUNT  RATIO  TARGET_MEAN\n",
            "3     305  0.342        0.292\n",
            "4     388  0.435        0.340\n",
            "5      96  0.108        0.427\n",
            "6      53  0.059        0.774\n",
            "7      38  0.043        0.842\n",
            "8       9  0.010        0.556\n",
            "9       1  0.001        1.000\n",
            "14      1  0.001        1.000\n",
            "\n",
            "\n",
            "NEW_NAME_DR : 2\n",
            "   COUNT  RATIO  TARGET_MEAN\n",
            "0    881  0.989        0.383\n",
            "1     10  0.011        0.500\n",
            "\n",
            "\n",
            "NEW_FAMILY_SIZE : 9\n",
            "    COUNT  RATIO  TARGET_MEAN\n",
            "1     537  0.603        0.304\n",
            "2     161  0.181        0.553\n",
            "3     102  0.114        0.578\n",
            "4      29  0.033        0.724\n",
            "5      15  0.017        0.200\n",
            "6      22  0.025        0.136\n",
            "7      12  0.013        0.333\n",
            "8       6  0.007        0.000\n",
            "11      7  0.008        0.000\n",
            "\n",
            "\n"
          ]
        }
      ]
    },
    {
      "cell_type": "code",
      "source": [
        "def rare_encoder(dataframe, rare_perc):\n",
        "    temp_df = dataframe.copy()\n",
        "\n",
        "    rare_columns = [col for col in temp_df.columns if temp_df[col].dtypes == 'O'\n",
        "                    and (temp_df[col].value_counts() / len(temp_df) < rare_perc).any(axis=None)]\n",
        "\n",
        "    for var in rare_columns:\n",
        "        tmp = temp_df[var].value_counts() / len(temp_df)\n",
        "        rare_labels = tmp[tmp < rare_perc].index\n",
        "        temp_df[var] = np.where(temp_df[var].isin(rare_labels), 'RARE', temp_df[var])\n",
        "\n",
        "    return temp_df\n",
        "\n",
        "\n",
        "df = rare_encoder(df, 0.01)\n",
        "\n",
        "df[\"NEW_TITLE\"].value_counts()"
      ],
      "metadata": {
        "colab": {
          "base_uri": "https://localhost:8080/"
        },
        "id": "7cK13AbchPHa",
        "outputId": "8b189b02-7d46-4087-b067-8ee2228b9a19"
      },
      "execution_count": null,
      "outputs": [
        {
          "output_type": "execute_result",
          "data": {
            "text/plain": [
              "Mr        517\n",
              "Miss      182\n",
              "Mrs       125\n",
              "Master     40\n",
              "RARE       27\n",
              "Name: NEW_TITLE, dtype: int64"
            ]
          },
          "metadata": {},
          "execution_count": 108
        }
      ]
    },
    {
      "cell_type": "markdown",
      "source": [
        "## 6. One-Hot Encoding"
      ],
      "metadata": {
        "id": "Knia0esShWIQ"
      }
    },
    {
      "cell_type": "code",
      "source": [
        "def one_hot_encoder(dataframe, categorical_cols, drop_first=True):\n",
        "    dataframe = pd.get_dummies(dataframe, columns=categorical_cols, drop_first=drop_first)\n",
        "    return dataframe"
      ],
      "metadata": {
        "id": "JoAcIzw7hYfb"
      },
      "execution_count": null,
      "outputs": []
    },
    {
      "cell_type": "code",
      "source": [
        "ohe_cols = [col for col in df.columns if 10 >= df[col].nunique() > 2]\n",
        "ohe_cols"
      ],
      "metadata": {
        "colab": {
          "base_uri": "https://localhost:8080/"
        },
        "id": "gx72VWctiZqX",
        "outputId": "863bc080-d94c-4ea5-c1da-42e45b07febb"
      },
      "execution_count": null,
      "outputs": [
        {
          "output_type": "execute_result",
          "data": {
            "text/plain": [
              "['PCLASS',\n",
              " 'SIBSP',\n",
              " 'PARCH',\n",
              " 'EMBARKED',\n",
              " 'NEW_NAME_WORD_COUNT',\n",
              " 'NEW_TITLE',\n",
              " 'NEW_FAMILY_SIZE',\n",
              " 'NEW_AGE_CAT',\n",
              " 'NEW_SEX_CAT']"
            ]
          },
          "metadata": {},
          "execution_count": 110
        }
      ]
    },
    {
      "cell_type": "code",
      "source": [
        "def oneHotEncoder(dataframe, categoricalCols, drop_first = False):\n",
        "    dataframe = pd.get_dummies(dataframe, columns=categoricalCols,drop_first=drop_first)\n",
        "    return dataframe\n",
        "df = oneHotEncoder(df, ohe_cols)\n",
        "df.head()"
      ],
      "metadata": {
        "colab": {
          "base_uri": "https://localhost:8080/",
          "height": 226
        },
        "id": "x-Qafleth_V_",
        "outputId": "018339d3-d424-40f3-acef-b492a506adc5"
      },
      "execution_count": null,
      "outputs": [
        {
          "output_type": "execute_result",
          "data": {
            "text/plain": [
              "   PASSENGERID  SURVIVED  SEX    AGE   FARE  NEW_CABIN_BOOL  NEW_NAME_COUNT  NEW_NAME_DR  NEW_AGE_PCLASS  NEW_IS_ALONE  PCLASS_1  PCLASS_2  PCLASS_3  SIBSP_0  SIBSP_1  SIBSP_2  SIBSP_3  SIBSP_4  SIBSP_5  SIBSP_8  PARCH_0  PARCH_1  PARCH_2  PARCH_3  PARCH_4  PARCH_5  PARCH_6  EMBARKED_C  EMBARKED_Q  EMBARKED_S  NEW_NAME_WORD_COUNT_3  NEW_NAME_WORD_COUNT_4  NEW_NAME_WORD_COUNT_5  NEW_NAME_WORD_COUNT_6  NEW_NAME_WORD_COUNT_7  NEW_NAME_WORD_COUNT_8  NEW_NAME_WORD_COUNT_9  NEW_NAME_WORD_COUNT_14  \\\n",
              "0            1         0    1 22.000  7.250               0              23            0          66.000             0         0         0         1        0        1        0        0        0        0        0        1        0        0        0        0        0        0           0           0           1                      0                      1                      0                      0                      0                      0                      0                       0   \n",
              "1            2         1    0 38.000 65.634               1              45            0          38.000             0         1         0         0        0        1        0        0        0        0        0        1        0        0        0        0        0        0           1           0           0                      0                      0                      0                      0                      1                      0                      0                       0   \n",
              "2            3         1    0 26.000  7.925               0              22            0          78.000             1         0         0         1        1        0        0        0        0        0        0        1        0        0        0        0        0        0           0           0           1                      1                      0                      0                      0                      0                      0                      0                       0   \n",
              "3            4         1    0 35.000 53.100               1              44            0          35.000             0         1         0         0        0        1        0        0        0        0        0        1        0        0        0        0        0        0           0           0           1                      0                      0                      0                      0                      1                      0                      0                       0   \n",
              "4            5         0    1 35.000  8.050               0              24            0         105.000             1         0         0         1        1        0        0        0        0        0        0        1        0        0        0        0        0        0           0           0           1                      0                      1                      0                      0                      0                      0                      0                       0   \n",
              "\n",
              "   NEW_TITLE_Master  NEW_TITLE_Miss  NEW_TITLE_Mr  NEW_TITLE_Mrs  NEW_TITLE_RARE  NEW_FAMILY_SIZE_1  NEW_FAMILY_SIZE_2  NEW_FAMILY_SIZE_3  NEW_FAMILY_SIZE_4  NEW_FAMILY_SIZE_5  NEW_FAMILY_SIZE_6  NEW_FAMILY_SIZE_7  NEW_FAMILY_SIZE_8  NEW_FAMILY_SIZE_11  NEW_AGE_CAT_mature  NEW_AGE_CAT_senior  NEW_AGE_CAT_young  NEW_SEX_CAT_maturefemale  NEW_SEX_CAT_maturemale  NEW_SEX_CAT_seniorfemale  NEW_SEX_CAT_seniormale  NEW_SEX_CAT_youngfemale  NEW_SEX_CAT_youngmale  \n",
              "0                 0               0             1              0               0                  0                  1                  0                  0                  0                  0                  0                  0                   0                   1                   0                  0                         0                       1                         0                       0                        0                      0  \n",
              "1                 0               0             0              1               0                  0                  1                  0                  0                  0                  0                  0                  0                   0                   1                   0                  0                         1                       0                         0                       0                        0                      0  \n",
              "2                 0               1             0              0               0                  1                  0                  0                  0                  0                  0                  0                  0                   0                   1                   0                  0                         1                       0                         0                       0                        0                      0  \n",
              "3                 0               0             0              1               0                  0                  1                  0                  0                  0                  0                  0                  0                   0                   1                   0                  0                         1                       0                         0                       0                        0                      0  \n",
              "4                 0               0             1              0               0                  1                  0                  0                  0                  0                  0                  0                  0                   0                   1                   0                  0                         0                       1                         0                       0                        0                      0  "
            ],
            "text/html": [
              "\n",
              "  <div id=\"df-d82184d6-d027-41a4-a25a-1d32dc9e3613\" class=\"colab-df-container\">\n",
              "    <div>\n",
              "<style scoped>\n",
              "    .dataframe tbody tr th:only-of-type {\n",
              "        vertical-align: middle;\n",
              "    }\n",
              "\n",
              "    .dataframe tbody tr th {\n",
              "        vertical-align: top;\n",
              "    }\n",
              "\n",
              "    .dataframe thead th {\n",
              "        text-align: right;\n",
              "    }\n",
              "</style>\n",
              "<table border=\"1\" class=\"dataframe\">\n",
              "  <thead>\n",
              "    <tr style=\"text-align: right;\">\n",
              "      <th></th>\n",
              "      <th>PASSENGERID</th>\n",
              "      <th>SURVIVED</th>\n",
              "      <th>SEX</th>\n",
              "      <th>AGE</th>\n",
              "      <th>FARE</th>\n",
              "      <th>NEW_CABIN_BOOL</th>\n",
              "      <th>NEW_NAME_COUNT</th>\n",
              "      <th>NEW_NAME_DR</th>\n",
              "      <th>NEW_AGE_PCLASS</th>\n",
              "      <th>NEW_IS_ALONE</th>\n",
              "      <th>PCLASS_1</th>\n",
              "      <th>PCLASS_2</th>\n",
              "      <th>PCLASS_3</th>\n",
              "      <th>SIBSP_0</th>\n",
              "      <th>SIBSP_1</th>\n",
              "      <th>SIBSP_2</th>\n",
              "      <th>SIBSP_3</th>\n",
              "      <th>SIBSP_4</th>\n",
              "      <th>SIBSP_5</th>\n",
              "      <th>SIBSP_8</th>\n",
              "      <th>PARCH_0</th>\n",
              "      <th>PARCH_1</th>\n",
              "      <th>PARCH_2</th>\n",
              "      <th>PARCH_3</th>\n",
              "      <th>PARCH_4</th>\n",
              "      <th>PARCH_5</th>\n",
              "      <th>PARCH_6</th>\n",
              "      <th>EMBARKED_C</th>\n",
              "      <th>EMBARKED_Q</th>\n",
              "      <th>EMBARKED_S</th>\n",
              "      <th>NEW_NAME_WORD_COUNT_3</th>\n",
              "      <th>NEW_NAME_WORD_COUNT_4</th>\n",
              "      <th>NEW_NAME_WORD_COUNT_5</th>\n",
              "      <th>NEW_NAME_WORD_COUNT_6</th>\n",
              "      <th>NEW_NAME_WORD_COUNT_7</th>\n",
              "      <th>NEW_NAME_WORD_COUNT_8</th>\n",
              "      <th>NEW_NAME_WORD_COUNT_9</th>\n",
              "      <th>NEW_NAME_WORD_COUNT_14</th>\n",
              "      <th>NEW_TITLE_Master</th>\n",
              "      <th>NEW_TITLE_Miss</th>\n",
              "      <th>NEW_TITLE_Mr</th>\n",
              "      <th>NEW_TITLE_Mrs</th>\n",
              "      <th>NEW_TITLE_RARE</th>\n",
              "      <th>NEW_FAMILY_SIZE_1</th>\n",
              "      <th>NEW_FAMILY_SIZE_2</th>\n",
              "      <th>NEW_FAMILY_SIZE_3</th>\n",
              "      <th>NEW_FAMILY_SIZE_4</th>\n",
              "      <th>NEW_FAMILY_SIZE_5</th>\n",
              "      <th>NEW_FAMILY_SIZE_6</th>\n",
              "      <th>NEW_FAMILY_SIZE_7</th>\n",
              "      <th>NEW_FAMILY_SIZE_8</th>\n",
              "      <th>NEW_FAMILY_SIZE_11</th>\n",
              "      <th>NEW_AGE_CAT_mature</th>\n",
              "      <th>NEW_AGE_CAT_senior</th>\n",
              "      <th>NEW_AGE_CAT_young</th>\n",
              "      <th>NEW_SEX_CAT_maturefemale</th>\n",
              "      <th>NEW_SEX_CAT_maturemale</th>\n",
              "      <th>NEW_SEX_CAT_seniorfemale</th>\n",
              "      <th>NEW_SEX_CAT_seniormale</th>\n",
              "      <th>NEW_SEX_CAT_youngfemale</th>\n",
              "      <th>NEW_SEX_CAT_youngmale</th>\n",
              "    </tr>\n",
              "  </thead>\n",
              "  <tbody>\n",
              "    <tr>\n",
              "      <th>0</th>\n",
              "      <td>1</td>\n",
              "      <td>0</td>\n",
              "      <td>1</td>\n",
              "      <td>22.000</td>\n",
              "      <td>7.250</td>\n",
              "      <td>0</td>\n",
              "      <td>23</td>\n",
              "      <td>0</td>\n",
              "      <td>66.000</td>\n",
              "      <td>0</td>\n",
              "      <td>0</td>\n",
              "      <td>0</td>\n",
              "      <td>1</td>\n",
              "      <td>0</td>\n",
              "      <td>1</td>\n",
              "      <td>0</td>\n",
              "      <td>0</td>\n",
              "      <td>0</td>\n",
              "      <td>0</td>\n",
              "      <td>0</td>\n",
              "      <td>1</td>\n",
              "      <td>0</td>\n",
              "      <td>0</td>\n",
              "      <td>0</td>\n",
              "      <td>0</td>\n",
              "      <td>0</td>\n",
              "      <td>0</td>\n",
              "      <td>0</td>\n",
              "      <td>0</td>\n",
              "      <td>1</td>\n",
              "      <td>0</td>\n",
              "      <td>1</td>\n",
              "      <td>0</td>\n",
              "      <td>0</td>\n",
              "      <td>0</td>\n",
              "      <td>0</td>\n",
              "      <td>0</td>\n",
              "      <td>0</td>\n",
              "      <td>0</td>\n",
              "      <td>0</td>\n",
              "      <td>1</td>\n",
              "      <td>0</td>\n",
              "      <td>0</td>\n",
              "      <td>0</td>\n",
              "      <td>1</td>\n",
              "      <td>0</td>\n",
              "      <td>0</td>\n",
              "      <td>0</td>\n",
              "      <td>0</td>\n",
              "      <td>0</td>\n",
              "      <td>0</td>\n",
              "      <td>0</td>\n",
              "      <td>1</td>\n",
              "      <td>0</td>\n",
              "      <td>0</td>\n",
              "      <td>0</td>\n",
              "      <td>1</td>\n",
              "      <td>0</td>\n",
              "      <td>0</td>\n",
              "      <td>0</td>\n",
              "      <td>0</td>\n",
              "    </tr>\n",
              "    <tr>\n",
              "      <th>1</th>\n",
              "      <td>2</td>\n",
              "      <td>1</td>\n",
              "      <td>0</td>\n",
              "      <td>38.000</td>\n",
              "      <td>65.634</td>\n",
              "      <td>1</td>\n",
              "      <td>45</td>\n",
              "      <td>0</td>\n",
              "      <td>38.000</td>\n",
              "      <td>0</td>\n",
              "      <td>1</td>\n",
              "      <td>0</td>\n",
              "      <td>0</td>\n",
              "      <td>0</td>\n",
              "      <td>1</td>\n",
              "      <td>0</td>\n",
              "      <td>0</td>\n",
              "      <td>0</td>\n",
              "      <td>0</td>\n",
              "      <td>0</td>\n",
              "      <td>1</td>\n",
              "      <td>0</td>\n",
              "      <td>0</td>\n",
              "      <td>0</td>\n",
              "      <td>0</td>\n",
              "      <td>0</td>\n",
              "      <td>0</td>\n",
              "      <td>1</td>\n",
              "      <td>0</td>\n",
              "      <td>0</td>\n",
              "      <td>0</td>\n",
              "      <td>0</td>\n",
              "      <td>0</td>\n",
              "      <td>0</td>\n",
              "      <td>1</td>\n",
              "      <td>0</td>\n",
              "      <td>0</td>\n",
              "      <td>0</td>\n",
              "      <td>0</td>\n",
              "      <td>0</td>\n",
              "      <td>0</td>\n",
              "      <td>1</td>\n",
              "      <td>0</td>\n",
              "      <td>0</td>\n",
              "      <td>1</td>\n",
              "      <td>0</td>\n",
              "      <td>0</td>\n",
              "      <td>0</td>\n",
              "      <td>0</td>\n",
              "      <td>0</td>\n",
              "      <td>0</td>\n",
              "      <td>0</td>\n",
              "      <td>1</td>\n",
              "      <td>0</td>\n",
              "      <td>0</td>\n",
              "      <td>1</td>\n",
              "      <td>0</td>\n",
              "      <td>0</td>\n",
              "      <td>0</td>\n",
              "      <td>0</td>\n",
              "      <td>0</td>\n",
              "    </tr>\n",
              "    <tr>\n",
              "      <th>2</th>\n",
              "      <td>3</td>\n",
              "      <td>1</td>\n",
              "      <td>0</td>\n",
              "      <td>26.000</td>\n",
              "      <td>7.925</td>\n",
              "      <td>0</td>\n",
              "      <td>22</td>\n",
              "      <td>0</td>\n",
              "      <td>78.000</td>\n",
              "      <td>1</td>\n",
              "      <td>0</td>\n",
              "      <td>0</td>\n",
              "      <td>1</td>\n",
              "      <td>1</td>\n",
              "      <td>0</td>\n",
              "      <td>0</td>\n",
              "      <td>0</td>\n",
              "      <td>0</td>\n",
              "      <td>0</td>\n",
              "      <td>0</td>\n",
              "      <td>1</td>\n",
              "      <td>0</td>\n",
              "      <td>0</td>\n",
              "      <td>0</td>\n",
              "      <td>0</td>\n",
              "      <td>0</td>\n",
              "      <td>0</td>\n",
              "      <td>0</td>\n",
              "      <td>0</td>\n",
              "      <td>1</td>\n",
              "      <td>1</td>\n",
              "      <td>0</td>\n",
              "      <td>0</td>\n",
              "      <td>0</td>\n",
              "      <td>0</td>\n",
              "      <td>0</td>\n",
              "      <td>0</td>\n",
              "      <td>0</td>\n",
              "      <td>0</td>\n",
              "      <td>1</td>\n",
              "      <td>0</td>\n",
              "      <td>0</td>\n",
              "      <td>0</td>\n",
              "      <td>1</td>\n",
              "      <td>0</td>\n",
              "      <td>0</td>\n",
              "      <td>0</td>\n",
              "      <td>0</td>\n",
              "      <td>0</td>\n",
              "      <td>0</td>\n",
              "      <td>0</td>\n",
              "      <td>0</td>\n",
              "      <td>1</td>\n",
              "      <td>0</td>\n",
              "      <td>0</td>\n",
              "      <td>1</td>\n",
              "      <td>0</td>\n",
              "      <td>0</td>\n",
              "      <td>0</td>\n",
              "      <td>0</td>\n",
              "      <td>0</td>\n",
              "    </tr>\n",
              "    <tr>\n",
              "      <th>3</th>\n",
              "      <td>4</td>\n",
              "      <td>1</td>\n",
              "      <td>0</td>\n",
              "      <td>35.000</td>\n",
              "      <td>53.100</td>\n",
              "      <td>1</td>\n",
              "      <td>44</td>\n",
              "      <td>0</td>\n",
              "      <td>35.000</td>\n",
              "      <td>0</td>\n",
              "      <td>1</td>\n",
              "      <td>0</td>\n",
              "      <td>0</td>\n",
              "      <td>0</td>\n",
              "      <td>1</td>\n",
              "      <td>0</td>\n",
              "      <td>0</td>\n",
              "      <td>0</td>\n",
              "      <td>0</td>\n",
              "      <td>0</td>\n",
              "      <td>1</td>\n",
              "      <td>0</td>\n",
              "      <td>0</td>\n",
              "      <td>0</td>\n",
              "      <td>0</td>\n",
              "      <td>0</td>\n",
              "      <td>0</td>\n",
              "      <td>0</td>\n",
              "      <td>0</td>\n",
              "      <td>1</td>\n",
              "      <td>0</td>\n",
              "      <td>0</td>\n",
              "      <td>0</td>\n",
              "      <td>0</td>\n",
              "      <td>1</td>\n",
              "      <td>0</td>\n",
              "      <td>0</td>\n",
              "      <td>0</td>\n",
              "      <td>0</td>\n",
              "      <td>0</td>\n",
              "      <td>0</td>\n",
              "      <td>1</td>\n",
              "      <td>0</td>\n",
              "      <td>0</td>\n",
              "      <td>1</td>\n",
              "      <td>0</td>\n",
              "      <td>0</td>\n",
              "      <td>0</td>\n",
              "      <td>0</td>\n",
              "      <td>0</td>\n",
              "      <td>0</td>\n",
              "      <td>0</td>\n",
              "      <td>1</td>\n",
              "      <td>0</td>\n",
              "      <td>0</td>\n",
              "      <td>1</td>\n",
              "      <td>0</td>\n",
              "      <td>0</td>\n",
              "      <td>0</td>\n",
              "      <td>0</td>\n",
              "      <td>0</td>\n",
              "    </tr>\n",
              "    <tr>\n",
              "      <th>4</th>\n",
              "      <td>5</td>\n",
              "      <td>0</td>\n",
              "      <td>1</td>\n",
              "      <td>35.000</td>\n",
              "      <td>8.050</td>\n",
              "      <td>0</td>\n",
              "      <td>24</td>\n",
              "      <td>0</td>\n",
              "      <td>105.000</td>\n",
              "      <td>1</td>\n",
              "      <td>0</td>\n",
              "      <td>0</td>\n",
              "      <td>1</td>\n",
              "      <td>1</td>\n",
              "      <td>0</td>\n",
              "      <td>0</td>\n",
              "      <td>0</td>\n",
              "      <td>0</td>\n",
              "      <td>0</td>\n",
              "      <td>0</td>\n",
              "      <td>1</td>\n",
              "      <td>0</td>\n",
              "      <td>0</td>\n",
              "      <td>0</td>\n",
              "      <td>0</td>\n",
              "      <td>0</td>\n",
              "      <td>0</td>\n",
              "      <td>0</td>\n",
              "      <td>0</td>\n",
              "      <td>1</td>\n",
              "      <td>0</td>\n",
              "      <td>1</td>\n",
              "      <td>0</td>\n",
              "      <td>0</td>\n",
              "      <td>0</td>\n",
              "      <td>0</td>\n",
              "      <td>0</td>\n",
              "      <td>0</td>\n",
              "      <td>0</td>\n",
              "      <td>0</td>\n",
              "      <td>1</td>\n",
              "      <td>0</td>\n",
              "      <td>0</td>\n",
              "      <td>1</td>\n",
              "      <td>0</td>\n",
              "      <td>0</td>\n",
              "      <td>0</td>\n",
              "      <td>0</td>\n",
              "      <td>0</td>\n",
              "      <td>0</td>\n",
              "      <td>0</td>\n",
              "      <td>0</td>\n",
              "      <td>1</td>\n",
              "      <td>0</td>\n",
              "      <td>0</td>\n",
              "      <td>0</td>\n",
              "      <td>1</td>\n",
              "      <td>0</td>\n",
              "      <td>0</td>\n",
              "      <td>0</td>\n",
              "      <td>0</td>\n",
              "    </tr>\n",
              "  </tbody>\n",
              "</table>\n",
              "</div>\n",
              "    <div class=\"colab-df-buttons\">\n",
              "\n",
              "  <div class=\"colab-df-container\">\n",
              "    <button class=\"colab-df-convert\" onclick=\"convertToInteractive('df-d82184d6-d027-41a4-a25a-1d32dc9e3613')\"\n",
              "            title=\"Convert this dataframe to an interactive table.\"\n",
              "            style=\"display:none;\">\n",
              "\n",
              "  <svg xmlns=\"http://www.w3.org/2000/svg\" height=\"24px\" viewBox=\"0 -960 960 960\">\n",
              "    <path d=\"M120-120v-720h720v720H120Zm60-500h600v-160H180v160Zm220 220h160v-160H400v160Zm0 220h160v-160H400v160ZM180-400h160v-160H180v160Zm440 0h160v-160H620v160ZM180-180h160v-160H180v160Zm440 0h160v-160H620v160Z\"/>\n",
              "  </svg>\n",
              "    </button>\n",
              "\n",
              "  <style>\n",
              "    .colab-df-container {\n",
              "      display:flex;\n",
              "      gap: 12px;\n",
              "    }\n",
              "\n",
              "    .colab-df-convert {\n",
              "      background-color: #E8F0FE;\n",
              "      border: none;\n",
              "      border-radius: 50%;\n",
              "      cursor: pointer;\n",
              "      display: none;\n",
              "      fill: #1967D2;\n",
              "      height: 32px;\n",
              "      padding: 0 0 0 0;\n",
              "      width: 32px;\n",
              "    }\n",
              "\n",
              "    .colab-df-convert:hover {\n",
              "      background-color: #E2EBFA;\n",
              "      box-shadow: 0px 1px 2px rgba(60, 64, 67, 0.3), 0px 1px 3px 1px rgba(60, 64, 67, 0.15);\n",
              "      fill: #174EA6;\n",
              "    }\n",
              "\n",
              "    .colab-df-buttons div {\n",
              "      margin-bottom: 4px;\n",
              "    }\n",
              "\n",
              "    [theme=dark] .colab-df-convert {\n",
              "      background-color: #3B4455;\n",
              "      fill: #D2E3FC;\n",
              "    }\n",
              "\n",
              "    [theme=dark] .colab-df-convert:hover {\n",
              "      background-color: #434B5C;\n",
              "      box-shadow: 0px 1px 3px 1px rgba(0, 0, 0, 0.15);\n",
              "      filter: drop-shadow(0px 1px 2px rgba(0, 0, 0, 0.3));\n",
              "      fill: #FFFFFF;\n",
              "    }\n",
              "  </style>\n",
              "\n",
              "    <script>\n",
              "      const buttonEl =\n",
              "        document.querySelector('#df-d82184d6-d027-41a4-a25a-1d32dc9e3613 button.colab-df-convert');\n",
              "      buttonEl.style.display =\n",
              "        google.colab.kernel.accessAllowed ? 'block' : 'none';\n",
              "\n",
              "      async function convertToInteractive(key) {\n",
              "        const element = document.querySelector('#df-d82184d6-d027-41a4-a25a-1d32dc9e3613');\n",
              "        const dataTable =\n",
              "          await google.colab.kernel.invokeFunction('convertToInteractive',\n",
              "                                                    [key], {});\n",
              "        if (!dataTable) return;\n",
              "\n",
              "        const docLinkHtml = 'Like what you see? Visit the ' +\n",
              "          '<a target=\"_blank\" href=https://colab.research.google.com/notebooks/data_table.ipynb>data table notebook</a>'\n",
              "          + ' to learn more about interactive tables.';\n",
              "        element.innerHTML = '';\n",
              "        dataTable['output_type'] = 'display_data';\n",
              "        await google.colab.output.renderOutput(dataTable, element);\n",
              "        const docLink = document.createElement('div');\n",
              "        docLink.innerHTML = docLinkHtml;\n",
              "        element.appendChild(docLink);\n",
              "      }\n",
              "    </script>\n",
              "  </div>\n",
              "\n",
              "\n",
              "<div id=\"df-5aea95cb-66e4-441a-aba3-2d1e3ca72ae7\">\n",
              "  <button class=\"colab-df-quickchart\" onclick=\"quickchart('df-5aea95cb-66e4-441a-aba3-2d1e3ca72ae7')\"\n",
              "            title=\"Suggest charts\"\n",
              "            style=\"display:none;\">\n",
              "\n",
              "<svg xmlns=\"http://www.w3.org/2000/svg\" height=\"24px\"viewBox=\"0 0 24 24\"\n",
              "     width=\"24px\">\n",
              "    <g>\n",
              "        <path d=\"M19 3H5c-1.1 0-2 .9-2 2v14c0 1.1.9 2 2 2h14c1.1 0 2-.9 2-2V5c0-1.1-.9-2-2-2zM9 17H7v-7h2v7zm4 0h-2V7h2v10zm4 0h-2v-4h2v4z\"/>\n",
              "    </g>\n",
              "</svg>\n",
              "  </button>\n",
              "\n",
              "<style>\n",
              "  .colab-df-quickchart {\n",
              "      --bg-color: #E8F0FE;\n",
              "      --fill-color: #1967D2;\n",
              "      --hover-bg-color: #E2EBFA;\n",
              "      --hover-fill-color: #174EA6;\n",
              "      --disabled-fill-color: #AAA;\n",
              "      --disabled-bg-color: #DDD;\n",
              "  }\n",
              "\n",
              "  [theme=dark] .colab-df-quickchart {\n",
              "      --bg-color: #3B4455;\n",
              "      --fill-color: #D2E3FC;\n",
              "      --hover-bg-color: #434B5C;\n",
              "      --hover-fill-color: #FFFFFF;\n",
              "      --disabled-bg-color: #3B4455;\n",
              "      --disabled-fill-color: #666;\n",
              "  }\n",
              "\n",
              "  .colab-df-quickchart {\n",
              "    background-color: var(--bg-color);\n",
              "    border: none;\n",
              "    border-radius: 50%;\n",
              "    cursor: pointer;\n",
              "    display: none;\n",
              "    fill: var(--fill-color);\n",
              "    height: 32px;\n",
              "    padding: 0;\n",
              "    width: 32px;\n",
              "  }\n",
              "\n",
              "  .colab-df-quickchart:hover {\n",
              "    background-color: var(--hover-bg-color);\n",
              "    box-shadow: 0 1px 2px rgba(60, 64, 67, 0.3), 0 1px 3px 1px rgba(60, 64, 67, 0.15);\n",
              "    fill: var(--button-hover-fill-color);\n",
              "  }\n",
              "\n",
              "  .colab-df-quickchart-complete:disabled,\n",
              "  .colab-df-quickchart-complete:disabled:hover {\n",
              "    background-color: var(--disabled-bg-color);\n",
              "    fill: var(--disabled-fill-color);\n",
              "    box-shadow: none;\n",
              "  }\n",
              "\n",
              "  .colab-df-spinner {\n",
              "    border: 2px solid var(--fill-color);\n",
              "    border-color: transparent;\n",
              "    border-bottom-color: var(--fill-color);\n",
              "    animation:\n",
              "      spin 1s steps(1) infinite;\n",
              "  }\n",
              "\n",
              "  @keyframes spin {\n",
              "    0% {\n",
              "      border-color: transparent;\n",
              "      border-bottom-color: var(--fill-color);\n",
              "      border-left-color: var(--fill-color);\n",
              "    }\n",
              "    20% {\n",
              "      border-color: transparent;\n",
              "      border-left-color: var(--fill-color);\n",
              "      border-top-color: var(--fill-color);\n",
              "    }\n",
              "    30% {\n",
              "      border-color: transparent;\n",
              "      border-left-color: var(--fill-color);\n",
              "      border-top-color: var(--fill-color);\n",
              "      border-right-color: var(--fill-color);\n",
              "    }\n",
              "    40% {\n",
              "      border-color: transparent;\n",
              "      border-right-color: var(--fill-color);\n",
              "      border-top-color: var(--fill-color);\n",
              "    }\n",
              "    60% {\n",
              "      border-color: transparent;\n",
              "      border-right-color: var(--fill-color);\n",
              "    }\n",
              "    80% {\n",
              "      border-color: transparent;\n",
              "      border-right-color: var(--fill-color);\n",
              "      border-bottom-color: var(--fill-color);\n",
              "    }\n",
              "    90% {\n",
              "      border-color: transparent;\n",
              "      border-bottom-color: var(--fill-color);\n",
              "    }\n",
              "  }\n",
              "</style>\n",
              "\n",
              "  <script>\n",
              "    async function quickchart(key) {\n",
              "      const quickchartButtonEl =\n",
              "        document.querySelector('#' + key + ' button');\n",
              "      quickchartButtonEl.disabled = true;  // To prevent multiple clicks.\n",
              "      quickchartButtonEl.classList.add('colab-df-spinner');\n",
              "      try {\n",
              "        const charts = await google.colab.kernel.invokeFunction(\n",
              "            'suggestCharts', [key], {});\n",
              "      } catch (error) {\n",
              "        console.error('Error during call to suggestCharts:', error);\n",
              "      }\n",
              "      quickchartButtonEl.classList.remove('colab-df-spinner');\n",
              "      quickchartButtonEl.classList.add('colab-df-quickchart-complete');\n",
              "    }\n",
              "    (() => {\n",
              "      let quickchartButtonEl =\n",
              "        document.querySelector('#df-5aea95cb-66e4-441a-aba3-2d1e3ca72ae7 button');\n",
              "      quickchartButtonEl.style.display =\n",
              "        google.colab.kernel.accessAllowed ? 'block' : 'none';\n",
              "    })();\n",
              "  </script>\n",
              "</div>\n",
              "\n",
              "    </div>\n",
              "  </div>\n"
            ]
          },
          "metadata": {},
          "execution_count": 111
        }
      ]
    },
    {
      "cell_type": "code",
      "source": [
        "cat_cols, num_cols, cat_but_car = grab_col_names(df)"
      ],
      "metadata": {
        "colab": {
          "base_uri": "https://localhost:8080/"
        },
        "id": "BdJkyWvdhj9-",
        "outputId": "9dc098c1-458e-4d09-f028-9cfb0ab28ec5"
      },
      "execution_count": null,
      "outputs": [
        {
          "output_type": "stream",
          "name": "stdout",
          "text": [
            "Observations(Gözlem): 891\n",
            "Variables(Değişken): 61\n",
            "cat_cols(kategorik Değişken): 56\n",
            "num_cols(Numerik değişken): 5\n",
            "cat_but_car(Kardinal değişken): 0\n",
            "num_but_cat: 56\n"
          ]
        }
      ]
    },
    {
      "cell_type": "code",
      "source": [
        "num_cols = [col for col in num_cols if \"PASSENGERID\" not in col]\n",
        "num_cols"
      ],
      "metadata": {
        "colab": {
          "base_uri": "https://localhost:8080/"
        },
        "id": "Z091DV09ilWQ",
        "outputId": "2a7b8810-5932-4fc8-8eae-af7efb85ace0"
      },
      "execution_count": null,
      "outputs": [
        {
          "output_type": "execute_result",
          "data": {
            "text/plain": [
              "['AGE', 'FARE', 'NEW_NAME_COUNT', 'NEW_AGE_PCLASS']"
            ]
          },
          "metadata": {},
          "execution_count": 113
        }
      ]
    },
    {
      "cell_type": "code",
      "source": [
        "rare_analyser(df, \"SURVIVED\", cat_cols)"
      ],
      "metadata": {
        "colab": {
          "base_uri": "https://localhost:8080/"
        },
        "id": "bhK3_JVrim-j",
        "outputId": "a8f157bd-8343-4fc9-ac7c-15c9273c967f"
      },
      "execution_count": null,
      "outputs": [
        {
          "output_type": "stream",
          "name": "stdout",
          "text": [
            "SURVIVED : 2\n",
            "   COUNT  RATIO  TARGET_MEAN\n",
            "0    549  0.616        0.000\n",
            "1    342  0.384        1.000\n",
            "\n",
            "\n",
            "SEX : 2\n",
            "   COUNT  RATIO  TARGET_MEAN\n",
            "0    314  0.352        0.742\n",
            "1    577  0.648        0.189\n",
            "\n",
            "\n",
            "NEW_CABIN_BOOL : 2\n",
            "   COUNT  RATIO  TARGET_MEAN\n",
            "0    687  0.771        0.300\n",
            "1    204  0.229        0.667\n",
            "\n",
            "\n",
            "NEW_NAME_DR : 2\n",
            "   COUNT  RATIO  TARGET_MEAN\n",
            "0    881  0.989        0.383\n",
            "1     10  0.011        0.500\n",
            "\n",
            "\n",
            "NEW_IS_ALONE : 2\n",
            "   COUNT  RATIO  TARGET_MEAN\n",
            "0    354  0.397        0.506\n",
            "1    537  0.603        0.304\n",
            "\n",
            "\n",
            "PCLASS_1 : 2\n",
            "   COUNT  RATIO  TARGET_MEAN\n",
            "0    675  0.758        0.305\n",
            "1    216  0.242        0.630\n",
            "\n",
            "\n",
            "PCLASS_2 : 2\n",
            "   COUNT  RATIO  TARGET_MEAN\n",
            "0    707  0.793        0.361\n",
            "1    184  0.207        0.473\n",
            "\n",
            "\n",
            "PCLASS_3 : 2\n",
            "   COUNT  RATIO  TARGET_MEAN\n",
            "0    400  0.449        0.557\n",
            "1    491  0.551        0.242\n",
            "\n",
            "\n",
            "SIBSP_0 : 2\n",
            "   COUNT  RATIO  TARGET_MEAN\n",
            "0    283  0.318        0.466\n",
            "1    608  0.682        0.345\n",
            "\n",
            "\n",
            "SIBSP_1 : 2\n",
            "   COUNT  RATIO  TARGET_MEAN\n",
            "0    682  0.765        0.337\n",
            "1    209  0.235        0.536\n",
            "\n",
            "\n",
            "SIBSP_2 : 2\n",
            "   COUNT  RATIO  TARGET_MEAN\n",
            "0    863  0.969        0.381\n",
            "1     28  0.031        0.464\n",
            "\n",
            "\n",
            "SIBSP_3 : 2\n",
            "   COUNT  RATIO  TARGET_MEAN\n",
            "0    875  0.982        0.386\n",
            "1     16  0.018        0.250\n",
            "\n",
            "\n",
            "SIBSP_4 : 2\n",
            "   COUNT  RATIO  TARGET_MEAN\n",
            "0    873  0.980        0.388\n",
            "1     18  0.020        0.167\n",
            "\n",
            "\n",
            "SIBSP_5 : 2\n",
            "   COUNT  RATIO  TARGET_MEAN\n",
            "0    886  0.994        0.386\n",
            "1      5  0.006        0.000\n",
            "\n",
            "\n",
            "SIBSP_8 : 2\n",
            "   COUNT  RATIO  TARGET_MEAN\n",
            "0    884  0.992        0.387\n",
            "1      7  0.008        0.000\n",
            "\n",
            "\n",
            "PARCH_0 : 2\n",
            "   COUNT  RATIO  TARGET_MEAN\n",
            "0    213  0.239        0.512\n",
            "1    678  0.761        0.344\n",
            "\n",
            "\n",
            "PARCH_1 : 2\n",
            "   COUNT  RATIO  TARGET_MEAN\n",
            "0    773  0.868        0.358\n",
            "1    118  0.132        0.551\n",
            "\n",
            "\n",
            "PARCH_2 : 2\n",
            "   COUNT  RATIO  TARGET_MEAN\n",
            "0    811  0.910        0.372\n",
            "1     80  0.090        0.500\n",
            "\n",
            "\n",
            "PARCH_3 : 2\n",
            "   COUNT  RATIO  TARGET_MEAN\n",
            "0    886  0.994        0.383\n",
            "1      5  0.006        0.600\n",
            "\n",
            "\n",
            "PARCH_4 : 2\n",
            "   COUNT  RATIO  TARGET_MEAN\n",
            "0    887  0.996        0.386\n",
            "1      4  0.004        0.000\n",
            "\n",
            "\n",
            "PARCH_5 : 2\n",
            "   COUNT  RATIO  TARGET_MEAN\n",
            "0    886  0.994        0.385\n",
            "1      5  0.006        0.200\n",
            "\n",
            "\n",
            "PARCH_6 : 2\n",
            "   COUNT  RATIO  TARGET_MEAN\n",
            "0    890  0.999        0.384\n",
            "1      1  0.001        0.000\n",
            "\n",
            "\n",
            "EMBARKED_C : 2\n",
            "   COUNT  RATIO  TARGET_MEAN\n",
            "0    723  0.811        0.344\n",
            "1    168  0.189        0.554\n",
            "\n",
            "\n",
            "EMBARKED_Q : 2\n",
            "   COUNT  RATIO  TARGET_MEAN\n",
            "0    814  0.914        0.383\n",
            "1     77  0.086        0.390\n",
            "\n",
            "\n",
            "EMBARKED_S : 2\n",
            "   COUNT  RATIO  TARGET_MEAN\n",
            "0    245  0.275        0.502\n",
            "1    646  0.725        0.339\n",
            "\n",
            "\n",
            "NEW_NAME_WORD_COUNT_3 : 2\n",
            "   COUNT  RATIO  TARGET_MEAN\n",
            "0    586  0.658        0.432\n",
            "1    305  0.342        0.292\n",
            "\n",
            "\n",
            "NEW_NAME_WORD_COUNT_4 : 2\n",
            "   COUNT  RATIO  TARGET_MEAN\n",
            "0    503  0.565        0.417\n",
            "1    388  0.435        0.340\n",
            "\n",
            "\n",
            "NEW_NAME_WORD_COUNT_5 : 2\n",
            "   COUNT  RATIO  TARGET_MEAN\n",
            "0    795  0.892        0.379\n",
            "1     96  0.108        0.427\n",
            "\n",
            "\n",
            "NEW_NAME_WORD_COUNT_6 : 2\n",
            "   COUNT  RATIO  TARGET_MEAN\n",
            "0    838  0.941        0.359\n",
            "1     53  0.059        0.774\n",
            "\n",
            "\n",
            "NEW_NAME_WORD_COUNT_7 : 2\n",
            "   COUNT  RATIO  TARGET_MEAN\n",
            "0    853  0.957        0.363\n",
            "1     38  0.043        0.842\n",
            "\n",
            "\n",
            "NEW_NAME_WORD_COUNT_8 : 2\n",
            "   COUNT  RATIO  TARGET_MEAN\n",
            "0    882  0.990        0.382\n",
            "1      9  0.010        0.556\n",
            "\n",
            "\n",
            "NEW_NAME_WORD_COUNT_9 : 2\n",
            "   COUNT  RATIO  TARGET_MEAN\n",
            "0    890  0.999        0.383\n",
            "1      1  0.001        1.000\n",
            "\n",
            "\n",
            "NEW_NAME_WORD_COUNT_14 : 2\n",
            "   COUNT  RATIO  TARGET_MEAN\n",
            "0    890  0.999        0.383\n",
            "1      1  0.001        1.000\n",
            "\n",
            "\n",
            "NEW_TITLE_Master : 2\n",
            "   COUNT  RATIO  TARGET_MEAN\n",
            "0    851  0.955        0.375\n",
            "1     40  0.045        0.575\n",
            "\n",
            "\n",
            "NEW_TITLE_Miss : 2\n",
            "   COUNT  RATIO  TARGET_MEAN\n",
            "0    709  0.796        0.303\n",
            "1    182  0.204        0.698\n",
            "\n",
            "\n",
            "NEW_TITLE_Mr : 2\n",
            "   COUNT  RATIO  TARGET_MEAN\n",
            "0    374  0.420        0.698\n",
            "1    517  0.580        0.157\n",
            "\n",
            "\n",
            "NEW_TITLE_Mrs : 2\n",
            "   COUNT  RATIO  TARGET_MEAN\n",
            "0    766  0.860        0.317\n",
            "1    125  0.140        0.792\n",
            "\n",
            "\n",
            "NEW_TITLE_RARE : 2\n",
            "   COUNT  RATIO  TARGET_MEAN\n",
            "0    864  0.970        0.382\n",
            "1     27  0.030        0.444\n",
            "\n",
            "\n",
            "NEW_FAMILY_SIZE_1 : 2\n",
            "   COUNT  RATIO  TARGET_MEAN\n",
            "0    354  0.397        0.506\n",
            "1    537  0.603        0.304\n",
            "\n",
            "\n",
            "NEW_FAMILY_SIZE_2 : 2\n",
            "   COUNT  RATIO  TARGET_MEAN\n",
            "0    730  0.819        0.347\n",
            "1    161  0.181        0.553\n",
            "\n",
            "\n",
            "NEW_FAMILY_SIZE_3 : 2\n",
            "   COUNT  RATIO  TARGET_MEAN\n",
            "0    789  0.886        0.359\n",
            "1    102  0.114        0.578\n",
            "\n",
            "\n",
            "NEW_FAMILY_SIZE_4 : 2\n",
            "   COUNT  RATIO  TARGET_MEAN\n",
            "0    862  0.967        0.372\n",
            "1     29  0.033        0.724\n",
            "\n",
            "\n",
            "NEW_FAMILY_SIZE_5 : 2\n",
            "   COUNT  RATIO  TARGET_MEAN\n",
            "0    876  0.983        0.387\n",
            "1     15  0.017        0.200\n",
            "\n",
            "\n",
            "NEW_FAMILY_SIZE_6 : 2\n",
            "   COUNT  RATIO  TARGET_MEAN\n",
            "0    869  0.975        0.390\n",
            "1     22  0.025        0.136\n",
            "\n",
            "\n",
            "NEW_FAMILY_SIZE_7 : 2\n",
            "   COUNT  RATIO  TARGET_MEAN\n",
            "0    879  0.987        0.385\n",
            "1     12  0.013        0.333\n",
            "\n",
            "\n",
            "NEW_FAMILY_SIZE_8 : 2\n",
            "   COUNT  RATIO  TARGET_MEAN\n",
            "0    885  0.993        0.386\n",
            "1      6  0.007        0.000\n",
            "\n",
            "\n",
            "NEW_FAMILY_SIZE_11 : 2\n",
            "   COUNT  RATIO  TARGET_MEAN\n",
            "0    884  0.992        0.387\n",
            "1      7  0.008        0.000\n",
            "\n",
            "\n",
            "NEW_AGE_CAT_mature : 2\n",
            "   COUNT  RATIO  TARGET_MEAN\n",
            "0    152  0.171        0.480\n",
            "1    739  0.829        0.364\n",
            "\n",
            "\n",
            "NEW_AGE_CAT_senior : 2\n",
            "   COUNT  RATIO  TARGET_MEAN\n",
            "0    852  0.956        0.387\n",
            "1     39  0.044        0.308\n",
            "\n",
            "\n",
            "NEW_AGE_CAT_young : 2\n",
            "   COUNT  RATIO  TARGET_MEAN\n",
            "0    778  0.873        0.361\n",
            "1    113  0.127        0.540\n",
            "\n",
            "\n",
            "NEW_SEX_CAT_maturefemale : 2\n",
            "   COUNT  RATIO  TARGET_MEAN\n",
            "0    731  0.820        0.298\n",
            "1    160  0.180        0.775\n",
            "\n",
            "\n",
            "NEW_SEX_CAT_maturemale : 2\n",
            "   COUNT  RATIO  TARGET_MEAN\n",
            "0    428  0.480        0.544\n",
            "1    463  0.520        0.235\n",
            "\n",
            "\n",
            "NEW_SEX_CAT_seniorfemale : 2\n",
            "   COUNT  RATIO  TARGET_MEAN\n",
            "0    874  0.981        0.373\n",
            "1     17  0.019        0.941\n",
            "\n",
            "\n",
            "NEW_SEX_CAT_seniormale : 2\n",
            "   COUNT  RATIO  TARGET_MEAN\n",
            "0    844  0.947        0.398\n",
            "1     47  0.053        0.128\n",
            "\n",
            "\n",
            "NEW_SEX_CAT_youngfemale : 2\n",
            "   COUNT  RATIO  TARGET_MEAN\n",
            "0    807  0.906        0.353\n",
            "1     84  0.094        0.679\n",
            "\n",
            "\n",
            "NEW_SEX_CAT_youngmale : 2\n",
            "   COUNT  RATIO  TARGET_MEAN\n",
            "0    771  0.865        0.405\n",
            "1    120  0.135        0.250\n",
            "\n",
            "\n"
          ]
        }
      ]
    },
    {
      "cell_type": "code",
      "source": [
        "useless_cols = [col for col in df.columns if df[col].nunique() == 2 and\n",
        "                (df[col].value_counts() / len(df) < 0.01).any(axis=None)]\n",
        "useless_cols"
      ],
      "metadata": {
        "colab": {
          "base_uri": "https://localhost:8080/"
        },
        "id": "GQgjND4kiy-S",
        "outputId": "41bb6d08-dcb0-4b63-a660-273c3f7d21ef"
      },
      "execution_count": null,
      "outputs": [
        {
          "output_type": "execute_result",
          "data": {
            "text/plain": [
              "['SIBSP_5',\n",
              " 'SIBSP_8',\n",
              " 'PARCH_3',\n",
              " 'PARCH_4',\n",
              " 'PARCH_5',\n",
              " 'PARCH_6',\n",
              " 'NEW_NAME_WORD_COUNT_9',\n",
              " 'NEW_NAME_WORD_COUNT_14',\n",
              " 'NEW_FAMILY_SIZE_8',\n",
              " 'NEW_FAMILY_SIZE_11']"
            ]
          },
          "metadata": {},
          "execution_count": 115
        }
      ]
    },
    {
      "cell_type": "markdown",
      "source": [
        "## 7. Standart Scaler"
      ],
      "metadata": {
        "id": "wnyvMkHXi1-A"
      }
    },
    {
      "cell_type": "code",
      "source": [
        "scaler = StandardScaler()\n",
        "df[num_cols] = scaler.fit_transform(df[num_cols])\n",
        "\n",
        "df[num_cols].head()"
      ],
      "metadata": {
        "colab": {
          "base_uri": "https://localhost:8080/",
          "height": 206
        },
        "id": "brD6ygl9i3lf",
        "outputId": "df91e563-6ab0-4791-f0f2-9c1c2017edb4"
      },
      "execution_count": null,
      "outputs": [
        {
          "output_type": "execute_result",
          "data": {
            "text/plain": [
              "     AGE   FARE  NEW_NAME_COUNT  NEW_AGE_PCLASS\n",
              "0 -0.561 -0.821          -0.437           0.066\n",
              "1  0.663  2.032           2.248          -0.790\n",
              "2 -0.255 -0.788          -0.559           0.434\n",
              "3  0.434  1.419           2.126          -0.882\n",
              "4  0.434 -0.781          -0.315           1.260"
            ],
            "text/html": [
              "\n",
              "  <div id=\"df-8017ab70-7720-4b89-9c5c-88885614f897\" class=\"colab-df-container\">\n",
              "    <div>\n",
              "<style scoped>\n",
              "    .dataframe tbody tr th:only-of-type {\n",
              "        vertical-align: middle;\n",
              "    }\n",
              "\n",
              "    .dataframe tbody tr th {\n",
              "        vertical-align: top;\n",
              "    }\n",
              "\n",
              "    .dataframe thead th {\n",
              "        text-align: right;\n",
              "    }\n",
              "</style>\n",
              "<table border=\"1\" class=\"dataframe\">\n",
              "  <thead>\n",
              "    <tr style=\"text-align: right;\">\n",
              "      <th></th>\n",
              "      <th>AGE</th>\n",
              "      <th>FARE</th>\n",
              "      <th>NEW_NAME_COUNT</th>\n",
              "      <th>NEW_AGE_PCLASS</th>\n",
              "    </tr>\n",
              "  </thead>\n",
              "  <tbody>\n",
              "    <tr>\n",
              "      <th>0</th>\n",
              "      <td>-0.561</td>\n",
              "      <td>-0.821</td>\n",
              "      <td>-0.437</td>\n",
              "      <td>0.066</td>\n",
              "    </tr>\n",
              "    <tr>\n",
              "      <th>1</th>\n",
              "      <td>0.663</td>\n",
              "      <td>2.032</td>\n",
              "      <td>2.248</td>\n",
              "      <td>-0.790</td>\n",
              "    </tr>\n",
              "    <tr>\n",
              "      <th>2</th>\n",
              "      <td>-0.255</td>\n",
              "      <td>-0.788</td>\n",
              "      <td>-0.559</td>\n",
              "      <td>0.434</td>\n",
              "    </tr>\n",
              "    <tr>\n",
              "      <th>3</th>\n",
              "      <td>0.434</td>\n",
              "      <td>1.419</td>\n",
              "      <td>2.126</td>\n",
              "      <td>-0.882</td>\n",
              "    </tr>\n",
              "    <tr>\n",
              "      <th>4</th>\n",
              "      <td>0.434</td>\n",
              "      <td>-0.781</td>\n",
              "      <td>-0.315</td>\n",
              "      <td>1.260</td>\n",
              "    </tr>\n",
              "  </tbody>\n",
              "</table>\n",
              "</div>\n",
              "    <div class=\"colab-df-buttons\">\n",
              "\n",
              "  <div class=\"colab-df-container\">\n",
              "    <button class=\"colab-df-convert\" onclick=\"convertToInteractive('df-8017ab70-7720-4b89-9c5c-88885614f897')\"\n",
              "            title=\"Convert this dataframe to an interactive table.\"\n",
              "            style=\"display:none;\">\n",
              "\n",
              "  <svg xmlns=\"http://www.w3.org/2000/svg\" height=\"24px\" viewBox=\"0 -960 960 960\">\n",
              "    <path d=\"M120-120v-720h720v720H120Zm60-500h600v-160H180v160Zm220 220h160v-160H400v160Zm0 220h160v-160H400v160ZM180-400h160v-160H180v160Zm440 0h160v-160H620v160ZM180-180h160v-160H180v160Zm440 0h160v-160H620v160Z\"/>\n",
              "  </svg>\n",
              "    </button>\n",
              "\n",
              "  <style>\n",
              "    .colab-df-container {\n",
              "      display:flex;\n",
              "      gap: 12px;\n",
              "    }\n",
              "\n",
              "    .colab-df-convert {\n",
              "      background-color: #E8F0FE;\n",
              "      border: none;\n",
              "      border-radius: 50%;\n",
              "      cursor: pointer;\n",
              "      display: none;\n",
              "      fill: #1967D2;\n",
              "      height: 32px;\n",
              "      padding: 0 0 0 0;\n",
              "      width: 32px;\n",
              "    }\n",
              "\n",
              "    .colab-df-convert:hover {\n",
              "      background-color: #E2EBFA;\n",
              "      box-shadow: 0px 1px 2px rgba(60, 64, 67, 0.3), 0px 1px 3px 1px rgba(60, 64, 67, 0.15);\n",
              "      fill: #174EA6;\n",
              "    }\n",
              "\n",
              "    .colab-df-buttons div {\n",
              "      margin-bottom: 4px;\n",
              "    }\n",
              "\n",
              "    [theme=dark] .colab-df-convert {\n",
              "      background-color: #3B4455;\n",
              "      fill: #D2E3FC;\n",
              "    }\n",
              "\n",
              "    [theme=dark] .colab-df-convert:hover {\n",
              "      background-color: #434B5C;\n",
              "      box-shadow: 0px 1px 3px 1px rgba(0, 0, 0, 0.15);\n",
              "      filter: drop-shadow(0px 1px 2px rgba(0, 0, 0, 0.3));\n",
              "      fill: #FFFFFF;\n",
              "    }\n",
              "  </style>\n",
              "\n",
              "    <script>\n",
              "      const buttonEl =\n",
              "        document.querySelector('#df-8017ab70-7720-4b89-9c5c-88885614f897 button.colab-df-convert');\n",
              "      buttonEl.style.display =\n",
              "        google.colab.kernel.accessAllowed ? 'block' : 'none';\n",
              "\n",
              "      async function convertToInteractive(key) {\n",
              "        const element = document.querySelector('#df-8017ab70-7720-4b89-9c5c-88885614f897');\n",
              "        const dataTable =\n",
              "          await google.colab.kernel.invokeFunction('convertToInteractive',\n",
              "                                                    [key], {});\n",
              "        if (!dataTable) return;\n",
              "\n",
              "        const docLinkHtml = 'Like what you see? Visit the ' +\n",
              "          '<a target=\"_blank\" href=https://colab.research.google.com/notebooks/data_table.ipynb>data table notebook</a>'\n",
              "          + ' to learn more about interactive tables.';\n",
              "        element.innerHTML = '';\n",
              "        dataTable['output_type'] = 'display_data';\n",
              "        await google.colab.output.renderOutput(dataTable, element);\n",
              "        const docLink = document.createElement('div');\n",
              "        docLink.innerHTML = docLinkHtml;\n",
              "        element.appendChild(docLink);\n",
              "      }\n",
              "    </script>\n",
              "  </div>\n",
              "\n",
              "\n",
              "<div id=\"df-d078bb3f-a0ca-46d3-b283-1973b2605685\">\n",
              "  <button class=\"colab-df-quickchart\" onclick=\"quickchart('df-d078bb3f-a0ca-46d3-b283-1973b2605685')\"\n",
              "            title=\"Suggest charts\"\n",
              "            style=\"display:none;\">\n",
              "\n",
              "<svg xmlns=\"http://www.w3.org/2000/svg\" height=\"24px\"viewBox=\"0 0 24 24\"\n",
              "     width=\"24px\">\n",
              "    <g>\n",
              "        <path d=\"M19 3H5c-1.1 0-2 .9-2 2v14c0 1.1.9 2 2 2h14c1.1 0 2-.9 2-2V5c0-1.1-.9-2-2-2zM9 17H7v-7h2v7zm4 0h-2V7h2v10zm4 0h-2v-4h2v4z\"/>\n",
              "    </g>\n",
              "</svg>\n",
              "  </button>\n",
              "\n",
              "<style>\n",
              "  .colab-df-quickchart {\n",
              "      --bg-color: #E8F0FE;\n",
              "      --fill-color: #1967D2;\n",
              "      --hover-bg-color: #E2EBFA;\n",
              "      --hover-fill-color: #174EA6;\n",
              "      --disabled-fill-color: #AAA;\n",
              "      --disabled-bg-color: #DDD;\n",
              "  }\n",
              "\n",
              "  [theme=dark] .colab-df-quickchart {\n",
              "      --bg-color: #3B4455;\n",
              "      --fill-color: #D2E3FC;\n",
              "      --hover-bg-color: #434B5C;\n",
              "      --hover-fill-color: #FFFFFF;\n",
              "      --disabled-bg-color: #3B4455;\n",
              "      --disabled-fill-color: #666;\n",
              "  }\n",
              "\n",
              "  .colab-df-quickchart {\n",
              "    background-color: var(--bg-color);\n",
              "    border: none;\n",
              "    border-radius: 50%;\n",
              "    cursor: pointer;\n",
              "    display: none;\n",
              "    fill: var(--fill-color);\n",
              "    height: 32px;\n",
              "    padding: 0;\n",
              "    width: 32px;\n",
              "  }\n",
              "\n",
              "  .colab-df-quickchart:hover {\n",
              "    background-color: var(--hover-bg-color);\n",
              "    box-shadow: 0 1px 2px rgba(60, 64, 67, 0.3), 0 1px 3px 1px rgba(60, 64, 67, 0.15);\n",
              "    fill: var(--button-hover-fill-color);\n",
              "  }\n",
              "\n",
              "  .colab-df-quickchart-complete:disabled,\n",
              "  .colab-df-quickchart-complete:disabled:hover {\n",
              "    background-color: var(--disabled-bg-color);\n",
              "    fill: var(--disabled-fill-color);\n",
              "    box-shadow: none;\n",
              "  }\n",
              "\n",
              "  .colab-df-spinner {\n",
              "    border: 2px solid var(--fill-color);\n",
              "    border-color: transparent;\n",
              "    border-bottom-color: var(--fill-color);\n",
              "    animation:\n",
              "      spin 1s steps(1) infinite;\n",
              "  }\n",
              "\n",
              "  @keyframes spin {\n",
              "    0% {\n",
              "      border-color: transparent;\n",
              "      border-bottom-color: var(--fill-color);\n",
              "      border-left-color: var(--fill-color);\n",
              "    }\n",
              "    20% {\n",
              "      border-color: transparent;\n",
              "      border-left-color: var(--fill-color);\n",
              "      border-top-color: var(--fill-color);\n",
              "    }\n",
              "    30% {\n",
              "      border-color: transparent;\n",
              "      border-left-color: var(--fill-color);\n",
              "      border-top-color: var(--fill-color);\n",
              "      border-right-color: var(--fill-color);\n",
              "    }\n",
              "    40% {\n",
              "      border-color: transparent;\n",
              "      border-right-color: var(--fill-color);\n",
              "      border-top-color: var(--fill-color);\n",
              "    }\n",
              "    60% {\n",
              "      border-color: transparent;\n",
              "      border-right-color: var(--fill-color);\n",
              "    }\n",
              "    80% {\n",
              "      border-color: transparent;\n",
              "      border-right-color: var(--fill-color);\n",
              "      border-bottom-color: var(--fill-color);\n",
              "    }\n",
              "    90% {\n",
              "      border-color: transparent;\n",
              "      border-bottom-color: var(--fill-color);\n",
              "    }\n",
              "  }\n",
              "</style>\n",
              "\n",
              "  <script>\n",
              "    async function quickchart(key) {\n",
              "      const quickchartButtonEl =\n",
              "        document.querySelector('#' + key + ' button');\n",
              "      quickchartButtonEl.disabled = true;  // To prevent multiple clicks.\n",
              "      quickchartButtonEl.classList.add('colab-df-spinner');\n",
              "      try {\n",
              "        const charts = await google.colab.kernel.invokeFunction(\n",
              "            'suggestCharts', [key], {});\n",
              "      } catch (error) {\n",
              "        console.error('Error during call to suggestCharts:', error);\n",
              "      }\n",
              "      quickchartButtonEl.classList.remove('colab-df-spinner');\n",
              "      quickchartButtonEl.classList.add('colab-df-quickchart-complete');\n",
              "    }\n",
              "    (() => {\n",
              "      let quickchartButtonEl =\n",
              "        document.querySelector('#df-d078bb3f-a0ca-46d3-b283-1973b2605685 button');\n",
              "      quickchartButtonEl.style.display =\n",
              "        google.colab.kernel.accessAllowed ? 'block' : 'none';\n",
              "    })();\n",
              "  </script>\n",
              "</div>\n",
              "\n",
              "    </div>\n",
              "  </div>\n"
            ]
          },
          "metadata": {},
          "execution_count": 116
        }
      ]
    },
    {
      "cell_type": "code",
      "source": [
        "df.head()"
      ],
      "metadata": {
        "colab": {
          "base_uri": "https://localhost:8080/",
          "height": 226
        },
        "id": "7qzX5f0li8vQ",
        "outputId": "ac48be77-7450-47e6-d8a3-aae5d52d54a8"
      },
      "execution_count": null,
      "outputs": [
        {
          "output_type": "execute_result",
          "data": {
            "text/plain": [
              "   PASSENGERID  SURVIVED  SEX    AGE   FARE  NEW_CABIN_BOOL  NEW_NAME_COUNT  NEW_NAME_DR  NEW_AGE_PCLASS  NEW_IS_ALONE  PCLASS_1  PCLASS_2  PCLASS_3  SIBSP_0  SIBSP_1  SIBSP_2  SIBSP_3  SIBSP_4  SIBSP_5  SIBSP_8  PARCH_0  PARCH_1  PARCH_2  PARCH_3  PARCH_4  PARCH_5  PARCH_6  EMBARKED_C  EMBARKED_Q  EMBARKED_S  NEW_NAME_WORD_COUNT_3  NEW_NAME_WORD_COUNT_4  NEW_NAME_WORD_COUNT_5  NEW_NAME_WORD_COUNT_6  NEW_NAME_WORD_COUNT_7  NEW_NAME_WORD_COUNT_8  NEW_NAME_WORD_COUNT_9  NEW_NAME_WORD_COUNT_14  \\\n",
              "0            1         0    1 -0.561 -0.821               0          -0.437            0           0.066             0         0         0         1        0        1        0        0        0        0        0        1        0        0        0        0        0        0           0           0           1                      0                      1                      0                      0                      0                      0                      0                       0   \n",
              "1            2         1    0  0.663  2.032               1           2.248            0          -0.790             0         1         0         0        0        1        0        0        0        0        0        1        0        0        0        0        0        0           1           0           0                      0                      0                      0                      0                      1                      0                      0                       0   \n",
              "2            3         1    0 -0.255 -0.788               0          -0.559            0           0.434             1         0         0         1        1        0        0        0        0        0        0        1        0        0        0        0        0        0           0           0           1                      1                      0                      0                      0                      0                      0                      0                       0   \n",
              "3            4         1    0  0.434  1.419               1           2.126            0          -0.882             0         1         0         0        0        1        0        0        0        0        0        1        0        0        0        0        0        0           0           0           1                      0                      0                      0                      0                      1                      0                      0                       0   \n",
              "4            5         0    1  0.434 -0.781               0          -0.315            0           1.260             1         0         0         1        1        0        0        0        0        0        0        1        0        0        0        0        0        0           0           0           1                      0                      1                      0                      0                      0                      0                      0                       0   \n",
              "\n",
              "   NEW_TITLE_Master  NEW_TITLE_Miss  NEW_TITLE_Mr  NEW_TITLE_Mrs  NEW_TITLE_RARE  NEW_FAMILY_SIZE_1  NEW_FAMILY_SIZE_2  NEW_FAMILY_SIZE_3  NEW_FAMILY_SIZE_4  NEW_FAMILY_SIZE_5  NEW_FAMILY_SIZE_6  NEW_FAMILY_SIZE_7  NEW_FAMILY_SIZE_8  NEW_FAMILY_SIZE_11  NEW_AGE_CAT_mature  NEW_AGE_CAT_senior  NEW_AGE_CAT_young  NEW_SEX_CAT_maturefemale  NEW_SEX_CAT_maturemale  NEW_SEX_CAT_seniorfemale  NEW_SEX_CAT_seniormale  NEW_SEX_CAT_youngfemale  NEW_SEX_CAT_youngmale  \n",
              "0                 0               0             1              0               0                  0                  1                  0                  0                  0                  0                  0                  0                   0                   1                   0                  0                         0                       1                         0                       0                        0                      0  \n",
              "1                 0               0             0              1               0                  0                  1                  0                  0                  0                  0                  0                  0                   0                   1                   0                  0                         1                       0                         0                       0                        0                      0  \n",
              "2                 0               1             0              0               0                  1                  0                  0                  0                  0                  0                  0                  0                   0                   1                   0                  0                         1                       0                         0                       0                        0                      0  \n",
              "3                 0               0             0              1               0                  0                  1                  0                  0                  0                  0                  0                  0                   0                   1                   0                  0                         1                       0                         0                       0                        0                      0  \n",
              "4                 0               0             1              0               0                  1                  0                  0                  0                  0                  0                  0                  0                   0                   1                   0                  0                         0                       1                         0                       0                        0                      0  "
            ],
            "text/html": [
              "\n",
              "  <div id=\"df-f814a141-0143-4479-b6eb-17e29a55f6f1\" class=\"colab-df-container\">\n",
              "    <div>\n",
              "<style scoped>\n",
              "    .dataframe tbody tr th:only-of-type {\n",
              "        vertical-align: middle;\n",
              "    }\n",
              "\n",
              "    .dataframe tbody tr th {\n",
              "        vertical-align: top;\n",
              "    }\n",
              "\n",
              "    .dataframe thead th {\n",
              "        text-align: right;\n",
              "    }\n",
              "</style>\n",
              "<table border=\"1\" class=\"dataframe\">\n",
              "  <thead>\n",
              "    <tr style=\"text-align: right;\">\n",
              "      <th></th>\n",
              "      <th>PASSENGERID</th>\n",
              "      <th>SURVIVED</th>\n",
              "      <th>SEX</th>\n",
              "      <th>AGE</th>\n",
              "      <th>FARE</th>\n",
              "      <th>NEW_CABIN_BOOL</th>\n",
              "      <th>NEW_NAME_COUNT</th>\n",
              "      <th>NEW_NAME_DR</th>\n",
              "      <th>NEW_AGE_PCLASS</th>\n",
              "      <th>NEW_IS_ALONE</th>\n",
              "      <th>PCLASS_1</th>\n",
              "      <th>PCLASS_2</th>\n",
              "      <th>PCLASS_3</th>\n",
              "      <th>SIBSP_0</th>\n",
              "      <th>SIBSP_1</th>\n",
              "      <th>SIBSP_2</th>\n",
              "      <th>SIBSP_3</th>\n",
              "      <th>SIBSP_4</th>\n",
              "      <th>SIBSP_5</th>\n",
              "      <th>SIBSP_8</th>\n",
              "      <th>PARCH_0</th>\n",
              "      <th>PARCH_1</th>\n",
              "      <th>PARCH_2</th>\n",
              "      <th>PARCH_3</th>\n",
              "      <th>PARCH_4</th>\n",
              "      <th>PARCH_5</th>\n",
              "      <th>PARCH_6</th>\n",
              "      <th>EMBARKED_C</th>\n",
              "      <th>EMBARKED_Q</th>\n",
              "      <th>EMBARKED_S</th>\n",
              "      <th>NEW_NAME_WORD_COUNT_3</th>\n",
              "      <th>NEW_NAME_WORD_COUNT_4</th>\n",
              "      <th>NEW_NAME_WORD_COUNT_5</th>\n",
              "      <th>NEW_NAME_WORD_COUNT_6</th>\n",
              "      <th>NEW_NAME_WORD_COUNT_7</th>\n",
              "      <th>NEW_NAME_WORD_COUNT_8</th>\n",
              "      <th>NEW_NAME_WORD_COUNT_9</th>\n",
              "      <th>NEW_NAME_WORD_COUNT_14</th>\n",
              "      <th>NEW_TITLE_Master</th>\n",
              "      <th>NEW_TITLE_Miss</th>\n",
              "      <th>NEW_TITLE_Mr</th>\n",
              "      <th>NEW_TITLE_Mrs</th>\n",
              "      <th>NEW_TITLE_RARE</th>\n",
              "      <th>NEW_FAMILY_SIZE_1</th>\n",
              "      <th>NEW_FAMILY_SIZE_2</th>\n",
              "      <th>NEW_FAMILY_SIZE_3</th>\n",
              "      <th>NEW_FAMILY_SIZE_4</th>\n",
              "      <th>NEW_FAMILY_SIZE_5</th>\n",
              "      <th>NEW_FAMILY_SIZE_6</th>\n",
              "      <th>NEW_FAMILY_SIZE_7</th>\n",
              "      <th>NEW_FAMILY_SIZE_8</th>\n",
              "      <th>NEW_FAMILY_SIZE_11</th>\n",
              "      <th>NEW_AGE_CAT_mature</th>\n",
              "      <th>NEW_AGE_CAT_senior</th>\n",
              "      <th>NEW_AGE_CAT_young</th>\n",
              "      <th>NEW_SEX_CAT_maturefemale</th>\n",
              "      <th>NEW_SEX_CAT_maturemale</th>\n",
              "      <th>NEW_SEX_CAT_seniorfemale</th>\n",
              "      <th>NEW_SEX_CAT_seniormale</th>\n",
              "      <th>NEW_SEX_CAT_youngfemale</th>\n",
              "      <th>NEW_SEX_CAT_youngmale</th>\n",
              "    </tr>\n",
              "  </thead>\n",
              "  <tbody>\n",
              "    <tr>\n",
              "      <th>0</th>\n",
              "      <td>1</td>\n",
              "      <td>0</td>\n",
              "      <td>1</td>\n",
              "      <td>-0.561</td>\n",
              "      <td>-0.821</td>\n",
              "      <td>0</td>\n",
              "      <td>-0.437</td>\n",
              "      <td>0</td>\n",
              "      <td>0.066</td>\n",
              "      <td>0</td>\n",
              "      <td>0</td>\n",
              "      <td>0</td>\n",
              "      <td>1</td>\n",
              "      <td>0</td>\n",
              "      <td>1</td>\n",
              "      <td>0</td>\n",
              "      <td>0</td>\n",
              "      <td>0</td>\n",
              "      <td>0</td>\n",
              "      <td>0</td>\n",
              "      <td>1</td>\n",
              "      <td>0</td>\n",
              "      <td>0</td>\n",
              "      <td>0</td>\n",
              "      <td>0</td>\n",
              "      <td>0</td>\n",
              "      <td>0</td>\n",
              "      <td>0</td>\n",
              "      <td>0</td>\n",
              "      <td>1</td>\n",
              "      <td>0</td>\n",
              "      <td>1</td>\n",
              "      <td>0</td>\n",
              "      <td>0</td>\n",
              "      <td>0</td>\n",
              "      <td>0</td>\n",
              "      <td>0</td>\n",
              "      <td>0</td>\n",
              "      <td>0</td>\n",
              "      <td>0</td>\n",
              "      <td>1</td>\n",
              "      <td>0</td>\n",
              "      <td>0</td>\n",
              "      <td>0</td>\n",
              "      <td>1</td>\n",
              "      <td>0</td>\n",
              "      <td>0</td>\n",
              "      <td>0</td>\n",
              "      <td>0</td>\n",
              "      <td>0</td>\n",
              "      <td>0</td>\n",
              "      <td>0</td>\n",
              "      <td>1</td>\n",
              "      <td>0</td>\n",
              "      <td>0</td>\n",
              "      <td>0</td>\n",
              "      <td>1</td>\n",
              "      <td>0</td>\n",
              "      <td>0</td>\n",
              "      <td>0</td>\n",
              "      <td>0</td>\n",
              "    </tr>\n",
              "    <tr>\n",
              "      <th>1</th>\n",
              "      <td>2</td>\n",
              "      <td>1</td>\n",
              "      <td>0</td>\n",
              "      <td>0.663</td>\n",
              "      <td>2.032</td>\n",
              "      <td>1</td>\n",
              "      <td>2.248</td>\n",
              "      <td>0</td>\n",
              "      <td>-0.790</td>\n",
              "      <td>0</td>\n",
              "      <td>1</td>\n",
              "      <td>0</td>\n",
              "      <td>0</td>\n",
              "      <td>0</td>\n",
              "      <td>1</td>\n",
              "      <td>0</td>\n",
              "      <td>0</td>\n",
              "      <td>0</td>\n",
              "      <td>0</td>\n",
              "      <td>0</td>\n",
              "      <td>1</td>\n",
              "      <td>0</td>\n",
              "      <td>0</td>\n",
              "      <td>0</td>\n",
              "      <td>0</td>\n",
              "      <td>0</td>\n",
              "      <td>0</td>\n",
              "      <td>1</td>\n",
              "      <td>0</td>\n",
              "      <td>0</td>\n",
              "      <td>0</td>\n",
              "      <td>0</td>\n",
              "      <td>0</td>\n",
              "      <td>0</td>\n",
              "      <td>1</td>\n",
              "      <td>0</td>\n",
              "      <td>0</td>\n",
              "      <td>0</td>\n",
              "      <td>0</td>\n",
              "      <td>0</td>\n",
              "      <td>0</td>\n",
              "      <td>1</td>\n",
              "      <td>0</td>\n",
              "      <td>0</td>\n",
              "      <td>1</td>\n",
              "      <td>0</td>\n",
              "      <td>0</td>\n",
              "      <td>0</td>\n",
              "      <td>0</td>\n",
              "      <td>0</td>\n",
              "      <td>0</td>\n",
              "      <td>0</td>\n",
              "      <td>1</td>\n",
              "      <td>0</td>\n",
              "      <td>0</td>\n",
              "      <td>1</td>\n",
              "      <td>0</td>\n",
              "      <td>0</td>\n",
              "      <td>0</td>\n",
              "      <td>0</td>\n",
              "      <td>0</td>\n",
              "    </tr>\n",
              "    <tr>\n",
              "      <th>2</th>\n",
              "      <td>3</td>\n",
              "      <td>1</td>\n",
              "      <td>0</td>\n",
              "      <td>-0.255</td>\n",
              "      <td>-0.788</td>\n",
              "      <td>0</td>\n",
              "      <td>-0.559</td>\n",
              "      <td>0</td>\n",
              "      <td>0.434</td>\n",
              "      <td>1</td>\n",
              "      <td>0</td>\n",
              "      <td>0</td>\n",
              "      <td>1</td>\n",
              "      <td>1</td>\n",
              "      <td>0</td>\n",
              "      <td>0</td>\n",
              "      <td>0</td>\n",
              "      <td>0</td>\n",
              "      <td>0</td>\n",
              "      <td>0</td>\n",
              "      <td>1</td>\n",
              "      <td>0</td>\n",
              "      <td>0</td>\n",
              "      <td>0</td>\n",
              "      <td>0</td>\n",
              "      <td>0</td>\n",
              "      <td>0</td>\n",
              "      <td>0</td>\n",
              "      <td>0</td>\n",
              "      <td>1</td>\n",
              "      <td>1</td>\n",
              "      <td>0</td>\n",
              "      <td>0</td>\n",
              "      <td>0</td>\n",
              "      <td>0</td>\n",
              "      <td>0</td>\n",
              "      <td>0</td>\n",
              "      <td>0</td>\n",
              "      <td>0</td>\n",
              "      <td>1</td>\n",
              "      <td>0</td>\n",
              "      <td>0</td>\n",
              "      <td>0</td>\n",
              "      <td>1</td>\n",
              "      <td>0</td>\n",
              "      <td>0</td>\n",
              "      <td>0</td>\n",
              "      <td>0</td>\n",
              "      <td>0</td>\n",
              "      <td>0</td>\n",
              "      <td>0</td>\n",
              "      <td>0</td>\n",
              "      <td>1</td>\n",
              "      <td>0</td>\n",
              "      <td>0</td>\n",
              "      <td>1</td>\n",
              "      <td>0</td>\n",
              "      <td>0</td>\n",
              "      <td>0</td>\n",
              "      <td>0</td>\n",
              "      <td>0</td>\n",
              "    </tr>\n",
              "    <tr>\n",
              "      <th>3</th>\n",
              "      <td>4</td>\n",
              "      <td>1</td>\n",
              "      <td>0</td>\n",
              "      <td>0.434</td>\n",
              "      <td>1.419</td>\n",
              "      <td>1</td>\n",
              "      <td>2.126</td>\n",
              "      <td>0</td>\n",
              "      <td>-0.882</td>\n",
              "      <td>0</td>\n",
              "      <td>1</td>\n",
              "      <td>0</td>\n",
              "      <td>0</td>\n",
              "      <td>0</td>\n",
              "      <td>1</td>\n",
              "      <td>0</td>\n",
              "      <td>0</td>\n",
              "      <td>0</td>\n",
              "      <td>0</td>\n",
              "      <td>0</td>\n",
              "      <td>1</td>\n",
              "      <td>0</td>\n",
              "      <td>0</td>\n",
              "      <td>0</td>\n",
              "      <td>0</td>\n",
              "      <td>0</td>\n",
              "      <td>0</td>\n",
              "      <td>0</td>\n",
              "      <td>0</td>\n",
              "      <td>1</td>\n",
              "      <td>0</td>\n",
              "      <td>0</td>\n",
              "      <td>0</td>\n",
              "      <td>0</td>\n",
              "      <td>1</td>\n",
              "      <td>0</td>\n",
              "      <td>0</td>\n",
              "      <td>0</td>\n",
              "      <td>0</td>\n",
              "      <td>0</td>\n",
              "      <td>0</td>\n",
              "      <td>1</td>\n",
              "      <td>0</td>\n",
              "      <td>0</td>\n",
              "      <td>1</td>\n",
              "      <td>0</td>\n",
              "      <td>0</td>\n",
              "      <td>0</td>\n",
              "      <td>0</td>\n",
              "      <td>0</td>\n",
              "      <td>0</td>\n",
              "      <td>0</td>\n",
              "      <td>1</td>\n",
              "      <td>0</td>\n",
              "      <td>0</td>\n",
              "      <td>1</td>\n",
              "      <td>0</td>\n",
              "      <td>0</td>\n",
              "      <td>0</td>\n",
              "      <td>0</td>\n",
              "      <td>0</td>\n",
              "    </tr>\n",
              "    <tr>\n",
              "      <th>4</th>\n",
              "      <td>5</td>\n",
              "      <td>0</td>\n",
              "      <td>1</td>\n",
              "      <td>0.434</td>\n",
              "      <td>-0.781</td>\n",
              "      <td>0</td>\n",
              "      <td>-0.315</td>\n",
              "      <td>0</td>\n",
              "      <td>1.260</td>\n",
              "      <td>1</td>\n",
              "      <td>0</td>\n",
              "      <td>0</td>\n",
              "      <td>1</td>\n",
              "      <td>1</td>\n",
              "      <td>0</td>\n",
              "      <td>0</td>\n",
              "      <td>0</td>\n",
              "      <td>0</td>\n",
              "      <td>0</td>\n",
              "      <td>0</td>\n",
              "      <td>1</td>\n",
              "      <td>0</td>\n",
              "      <td>0</td>\n",
              "      <td>0</td>\n",
              "      <td>0</td>\n",
              "      <td>0</td>\n",
              "      <td>0</td>\n",
              "      <td>0</td>\n",
              "      <td>0</td>\n",
              "      <td>1</td>\n",
              "      <td>0</td>\n",
              "      <td>1</td>\n",
              "      <td>0</td>\n",
              "      <td>0</td>\n",
              "      <td>0</td>\n",
              "      <td>0</td>\n",
              "      <td>0</td>\n",
              "      <td>0</td>\n",
              "      <td>0</td>\n",
              "      <td>0</td>\n",
              "      <td>1</td>\n",
              "      <td>0</td>\n",
              "      <td>0</td>\n",
              "      <td>1</td>\n",
              "      <td>0</td>\n",
              "      <td>0</td>\n",
              "      <td>0</td>\n",
              "      <td>0</td>\n",
              "      <td>0</td>\n",
              "      <td>0</td>\n",
              "      <td>0</td>\n",
              "      <td>0</td>\n",
              "      <td>1</td>\n",
              "      <td>0</td>\n",
              "      <td>0</td>\n",
              "      <td>0</td>\n",
              "      <td>1</td>\n",
              "      <td>0</td>\n",
              "      <td>0</td>\n",
              "      <td>0</td>\n",
              "      <td>0</td>\n",
              "    </tr>\n",
              "  </tbody>\n",
              "</table>\n",
              "</div>\n",
              "    <div class=\"colab-df-buttons\">\n",
              "\n",
              "  <div class=\"colab-df-container\">\n",
              "    <button class=\"colab-df-convert\" onclick=\"convertToInteractive('df-f814a141-0143-4479-b6eb-17e29a55f6f1')\"\n",
              "            title=\"Convert this dataframe to an interactive table.\"\n",
              "            style=\"display:none;\">\n",
              "\n",
              "  <svg xmlns=\"http://www.w3.org/2000/svg\" height=\"24px\" viewBox=\"0 -960 960 960\">\n",
              "    <path d=\"M120-120v-720h720v720H120Zm60-500h600v-160H180v160Zm220 220h160v-160H400v160Zm0 220h160v-160H400v160ZM180-400h160v-160H180v160Zm440 0h160v-160H620v160ZM180-180h160v-160H180v160Zm440 0h160v-160H620v160Z\"/>\n",
              "  </svg>\n",
              "    </button>\n",
              "\n",
              "  <style>\n",
              "    .colab-df-container {\n",
              "      display:flex;\n",
              "      gap: 12px;\n",
              "    }\n",
              "\n",
              "    .colab-df-convert {\n",
              "      background-color: #E8F0FE;\n",
              "      border: none;\n",
              "      border-radius: 50%;\n",
              "      cursor: pointer;\n",
              "      display: none;\n",
              "      fill: #1967D2;\n",
              "      height: 32px;\n",
              "      padding: 0 0 0 0;\n",
              "      width: 32px;\n",
              "    }\n",
              "\n",
              "    .colab-df-convert:hover {\n",
              "      background-color: #E2EBFA;\n",
              "      box-shadow: 0px 1px 2px rgba(60, 64, 67, 0.3), 0px 1px 3px 1px rgba(60, 64, 67, 0.15);\n",
              "      fill: #174EA6;\n",
              "    }\n",
              "\n",
              "    .colab-df-buttons div {\n",
              "      margin-bottom: 4px;\n",
              "    }\n",
              "\n",
              "    [theme=dark] .colab-df-convert {\n",
              "      background-color: #3B4455;\n",
              "      fill: #D2E3FC;\n",
              "    }\n",
              "\n",
              "    [theme=dark] .colab-df-convert:hover {\n",
              "      background-color: #434B5C;\n",
              "      box-shadow: 0px 1px 3px 1px rgba(0, 0, 0, 0.15);\n",
              "      filter: drop-shadow(0px 1px 2px rgba(0, 0, 0, 0.3));\n",
              "      fill: #FFFFFF;\n",
              "    }\n",
              "  </style>\n",
              "\n",
              "    <script>\n",
              "      const buttonEl =\n",
              "        document.querySelector('#df-f814a141-0143-4479-b6eb-17e29a55f6f1 button.colab-df-convert');\n",
              "      buttonEl.style.display =\n",
              "        google.colab.kernel.accessAllowed ? 'block' : 'none';\n",
              "\n",
              "      async function convertToInteractive(key) {\n",
              "        const element = document.querySelector('#df-f814a141-0143-4479-b6eb-17e29a55f6f1');\n",
              "        const dataTable =\n",
              "          await google.colab.kernel.invokeFunction('convertToInteractive',\n",
              "                                                    [key], {});\n",
              "        if (!dataTable) return;\n",
              "\n",
              "        const docLinkHtml = 'Like what you see? Visit the ' +\n",
              "          '<a target=\"_blank\" href=https://colab.research.google.com/notebooks/data_table.ipynb>data table notebook</a>'\n",
              "          + ' to learn more about interactive tables.';\n",
              "        element.innerHTML = '';\n",
              "        dataTable['output_type'] = 'display_data';\n",
              "        await google.colab.output.renderOutput(dataTable, element);\n",
              "        const docLink = document.createElement('div');\n",
              "        docLink.innerHTML = docLinkHtml;\n",
              "        element.appendChild(docLink);\n",
              "      }\n",
              "    </script>\n",
              "  </div>\n",
              "\n",
              "\n",
              "<div id=\"df-40e1306b-f78b-46fa-abd7-2b0c5e6e056b\">\n",
              "  <button class=\"colab-df-quickchart\" onclick=\"quickchart('df-40e1306b-f78b-46fa-abd7-2b0c5e6e056b')\"\n",
              "            title=\"Suggest charts\"\n",
              "            style=\"display:none;\">\n",
              "\n",
              "<svg xmlns=\"http://www.w3.org/2000/svg\" height=\"24px\"viewBox=\"0 0 24 24\"\n",
              "     width=\"24px\">\n",
              "    <g>\n",
              "        <path d=\"M19 3H5c-1.1 0-2 .9-2 2v14c0 1.1.9 2 2 2h14c1.1 0 2-.9 2-2V5c0-1.1-.9-2-2-2zM9 17H7v-7h2v7zm4 0h-2V7h2v10zm4 0h-2v-4h2v4z\"/>\n",
              "    </g>\n",
              "</svg>\n",
              "  </button>\n",
              "\n",
              "<style>\n",
              "  .colab-df-quickchart {\n",
              "      --bg-color: #E8F0FE;\n",
              "      --fill-color: #1967D2;\n",
              "      --hover-bg-color: #E2EBFA;\n",
              "      --hover-fill-color: #174EA6;\n",
              "      --disabled-fill-color: #AAA;\n",
              "      --disabled-bg-color: #DDD;\n",
              "  }\n",
              "\n",
              "  [theme=dark] .colab-df-quickchart {\n",
              "      --bg-color: #3B4455;\n",
              "      --fill-color: #D2E3FC;\n",
              "      --hover-bg-color: #434B5C;\n",
              "      --hover-fill-color: #FFFFFF;\n",
              "      --disabled-bg-color: #3B4455;\n",
              "      --disabled-fill-color: #666;\n",
              "  }\n",
              "\n",
              "  .colab-df-quickchart {\n",
              "    background-color: var(--bg-color);\n",
              "    border: none;\n",
              "    border-radius: 50%;\n",
              "    cursor: pointer;\n",
              "    display: none;\n",
              "    fill: var(--fill-color);\n",
              "    height: 32px;\n",
              "    padding: 0;\n",
              "    width: 32px;\n",
              "  }\n",
              "\n",
              "  .colab-df-quickchart:hover {\n",
              "    background-color: var(--hover-bg-color);\n",
              "    box-shadow: 0 1px 2px rgba(60, 64, 67, 0.3), 0 1px 3px 1px rgba(60, 64, 67, 0.15);\n",
              "    fill: var(--button-hover-fill-color);\n",
              "  }\n",
              "\n",
              "  .colab-df-quickchart-complete:disabled,\n",
              "  .colab-df-quickchart-complete:disabled:hover {\n",
              "    background-color: var(--disabled-bg-color);\n",
              "    fill: var(--disabled-fill-color);\n",
              "    box-shadow: none;\n",
              "  }\n",
              "\n",
              "  .colab-df-spinner {\n",
              "    border: 2px solid var(--fill-color);\n",
              "    border-color: transparent;\n",
              "    border-bottom-color: var(--fill-color);\n",
              "    animation:\n",
              "      spin 1s steps(1) infinite;\n",
              "  }\n",
              "\n",
              "  @keyframes spin {\n",
              "    0% {\n",
              "      border-color: transparent;\n",
              "      border-bottom-color: var(--fill-color);\n",
              "      border-left-color: var(--fill-color);\n",
              "    }\n",
              "    20% {\n",
              "      border-color: transparent;\n",
              "      border-left-color: var(--fill-color);\n",
              "      border-top-color: var(--fill-color);\n",
              "    }\n",
              "    30% {\n",
              "      border-color: transparent;\n",
              "      border-left-color: var(--fill-color);\n",
              "      border-top-color: var(--fill-color);\n",
              "      border-right-color: var(--fill-color);\n",
              "    }\n",
              "    40% {\n",
              "      border-color: transparent;\n",
              "      border-right-color: var(--fill-color);\n",
              "      border-top-color: var(--fill-color);\n",
              "    }\n",
              "    60% {\n",
              "      border-color: transparent;\n",
              "      border-right-color: var(--fill-color);\n",
              "    }\n",
              "    80% {\n",
              "      border-color: transparent;\n",
              "      border-right-color: var(--fill-color);\n",
              "      border-bottom-color: var(--fill-color);\n",
              "    }\n",
              "    90% {\n",
              "      border-color: transparent;\n",
              "      border-bottom-color: var(--fill-color);\n",
              "    }\n",
              "  }\n",
              "</style>\n",
              "\n",
              "  <script>\n",
              "    async function quickchart(key) {\n",
              "      const quickchartButtonEl =\n",
              "        document.querySelector('#' + key + ' button');\n",
              "      quickchartButtonEl.disabled = true;  // To prevent multiple clicks.\n",
              "      quickchartButtonEl.classList.add('colab-df-spinner');\n",
              "      try {\n",
              "        const charts = await google.colab.kernel.invokeFunction(\n",
              "            'suggestCharts', [key], {});\n",
              "      } catch (error) {\n",
              "        console.error('Error during call to suggestCharts:', error);\n",
              "      }\n",
              "      quickchartButtonEl.classList.remove('colab-df-spinner');\n",
              "      quickchartButtonEl.classList.add('colab-df-quickchart-complete');\n",
              "    }\n",
              "    (() => {\n",
              "      let quickchartButtonEl =\n",
              "        document.querySelector('#df-40e1306b-f78b-46fa-abd7-2b0c5e6e056b button');\n",
              "      quickchartButtonEl.style.display =\n",
              "        google.colab.kernel.accessAllowed ? 'block' : 'none';\n",
              "    })();\n",
              "  </script>\n",
              "</div>\n",
              "\n",
              "    </div>\n",
              "  </div>\n"
            ]
          },
          "metadata": {},
          "execution_count": 117
        }
      ]
    },
    {
      "cell_type": "markdown",
      "source": [
        "# MODEL\n"
      ],
      "metadata": {
        "id": "pLEhiLD6jVrq"
      }
    },
    {
      "cell_type": "code",
      "source": [
        "from sklearn.metrics import confusion_matrix\n",
        "from sklearn.metrics import roc_curve"
      ],
      "metadata": {
        "id": "KULooDi3oX5B"
      },
      "execution_count": null,
      "outputs": []
    },
    {
      "cell_type": "code",
      "source": [
        "y = df[\"SURVIVED\"]\n",
        "X = df.drop([\"PASSENGERID\", \"SURVIVED\"], axis=1)\n",
        "\n",
        "X_train, X_test, y_train, y_test = train_test_split(X, y, test_size=0.30, random_state=17)"
      ],
      "metadata": {
        "id": "GYKQ7_CrkZuM"
      },
      "execution_count": null,
      "outputs": []
    },
    {
      "cell_type": "markdown",
      "source": [
        "## kNN\n"
      ],
      "metadata": {
        "id": "GeHEh1RcjZn0"
      }
    },
    {
      "cell_type": "code",
      "source": [
        "from sklearn.metrics import classification_report, roc_auc_score, confusion_matrix, cohen_kappa_score\n",
        "from sklearn.model_selection import GridSearchCV, cross_validate\n",
        "from sklearn.neighbors import KNeighborsClassifier"
      ],
      "metadata": {
        "id": "EcEUsphTjU11"
      },
      "execution_count": null,
      "outputs": []
    },
    {
      "cell_type": "code",
      "source": [
        "knn_model = KNeighborsClassifier().fit(X, y)"
      ],
      "metadata": {
        "id": "yKTTAJrOkzNI"
      },
      "execution_count": null,
      "outputs": []
    },
    {
      "cell_type": "code",
      "source": [
        "random_user = X.sample(1, random_state=45)\n",
        "\n",
        "knn_model.predict(random_user)"
      ],
      "metadata": {
        "colab": {
          "base_uri": "https://localhost:8080/"
        },
        "id": "zp51XnqQk1rN",
        "outputId": "c058fbf0-c4de-47de-b793-b2c8cd3d7fed"
      },
      "execution_count": null,
      "outputs": [
        {
          "output_type": "execute_result",
          "data": {
            "text/plain": [
              "array([0])"
            ]
          },
          "metadata": {},
          "execution_count": 122
        }
      ]
    },
    {
      "cell_type": "markdown",
      "source": [
        "\n",
        "\n",
        "*   Hyperparameter Optimization\n"
      ],
      "metadata": {
        "id": "RXyeIxKdk5Lv"
      }
    },
    {
      "cell_type": "code",
      "source": [
        "knn_model = KNeighborsClassifier()\n",
        "knn_model.get_params()\n",
        "\n",
        "knn_params = {\"n_neighbors\": range(2, 50)}\n",
        "knn_gs_best = GridSearchCV(knn_model,\n",
        "                           knn_params,\n",
        "                           cv=5,\n",
        "                           n_jobs=-1,\n",
        "                           verbose=1).fit(X, y)\n",
        "\n",
        "knn_gs_best.best_params_\n",
        "# {'n_neighbors': 36}"
      ],
      "metadata": {
        "colab": {
          "base_uri": "https://localhost:8080/"
        },
        "id": "dCUW2Qnuk4Wj",
        "outputId": "4982a638-ff29-4cdc-cd15-14480e5b67f0"
      },
      "execution_count": null,
      "outputs": [
        {
          "output_type": "stream",
          "name": "stdout",
          "text": [
            "Fitting 5 folds for each of 48 candidates, totalling 240 fits\n"
          ]
        },
        {
          "output_type": "execute_result",
          "data": {
            "text/plain": [
              "{'n_neighbors': 11}"
            ]
          },
          "metadata": {},
          "execution_count": 123
        }
      ]
    },
    {
      "cell_type": "code",
      "source": [
        "knn_final = knn_model.set_params(**knn_gs_best.best_params_).fit(X, y)\n",
        "cv_results = cross_validate(knn_final,\n",
        "                            X,\n",
        "                            y,\n",
        "                            cv=5,\n",
        "                            scoring=[\"accuracy\", \"f1\", \"roc_auc\"])\n",
        "\n",
        "cv_results['test_accuracy'].mean()"
      ],
      "metadata": {
        "colab": {
          "base_uri": "https://localhost:8080/"
        },
        "id": "LmHp-tU2lGDu",
        "outputId": "d0988f7b-e9ce-4a43-8a8f-76cbe6a6e626"
      },
      "execution_count": null,
      "outputs": [
        {
          "output_type": "execute_result",
          "data": {
            "text/plain": [
              "0.8170861841692298"
            ]
          },
          "metadata": {},
          "execution_count": 124
        }
      ]
    },
    {
      "cell_type": "code",
      "source": [
        "y_pred = knn_final.predict(X)\n",
        "print(classification_report(y, y_pred))"
      ],
      "metadata": {
        "colab": {
          "base_uri": "https://localhost:8080/"
        },
        "id": "6mdoYvCClMZF",
        "outputId": "30a1f952-1ec3-4e13-ebdc-818538e435f2"
      },
      "execution_count": null,
      "outputs": [
        {
          "output_type": "stream",
          "name": "stdout",
          "text": [
            "              precision    recall  f1-score   support\n",
            "\n",
            "           0       0.84      0.92      0.88       549\n",
            "           1       0.85      0.73      0.78       342\n",
            "\n",
            "    accuracy                           0.85       891\n",
            "   macro avg       0.85      0.82      0.83       891\n",
            "weighted avg       0.85      0.85      0.84       891\n",
            "\n"
          ]
        }
      ]
    },
    {
      "cell_type": "code",
      "source": [
        "y_probs = knn_model.predict_proba(X)\n",
        "roc_auc_scores = roc_auc_score(pd.get_dummies(y), y_probs, multi_class=\"ovr\")\n",
        "\n",
        "print(\"Macro Average ROC AUC Score:\", roc_auc_scores)"
      ],
      "metadata": {
        "colab": {
          "base_uri": "https://localhost:8080/"
        },
        "id": "yXL8v9orlRK1",
        "outputId": "c511a60b-5245-4638-be9e-120af9b74c4b"
      },
      "execution_count": null,
      "outputs": [
        {
          "output_type": "stream",
          "name": "stdout",
          "text": [
            "Macro Average ROC AUC Score: 0.9123472768137709\n"
          ]
        }
      ]
    },
    {
      "cell_type": "code",
      "source": [
        "conf_matrix = confusion_matrix(y, y_pred)\n",
        "print(\"Confusion Matrix:\")\n",
        "print(conf_matrix)\n",
        "\n",
        "true_positive = conf_matrix[1, 1]\n",
        "false_positive = conf_matrix[0, 1]\n",
        "true_negative = conf_matrix[0, 0]\n",
        "false_negative = conf_matrix[1, 0]\n",
        "\n",
        "sensitivity = true_positive / (true_positive + false_negative)\n",
        "specificity = true_negative / (true_negative + false_positive)\n",
        "\n",
        "print(f\"Sensitivity: {sensitivity}\")\n",
        "print(f\"Specificity: {specificity}\")"
      ],
      "metadata": {
        "colab": {
          "base_uri": "https://localhost:8080/"
        },
        "id": "mWisY5GrlUvA",
        "outputId": "4a02e2a1-7ff3-45c0-9585-10d3b6f8a6bf"
      },
      "execution_count": null,
      "outputs": [
        {
          "output_type": "stream",
          "name": "stdout",
          "text": [
            "Confusion Matrix:\n",
            "[[504  45]\n",
            " [ 93 249]]\n",
            "Sensitivity: 0.7280701754385965\n",
            "Specificity: 0.9180327868852459\n"
          ]
        }
      ]
    },
    {
      "cell_type": "code",
      "source": [
        "kappa = cohen_kappa_score(y, y_pred)\n",
        "print(f\"Cohen's Kappa: {kappa}\")"
      ],
      "metadata": {
        "colab": {
          "base_uri": "https://localhost:8080/"
        },
        "id": "ts9mWbarlXpW",
        "outputId": "7f8511fb-f606-43df-e999-62652335b0d6"
      },
      "execution_count": null,
      "outputs": [
        {
          "output_type": "stream",
          "name": "stdout",
          "text": [
            "Cohen's Kappa: 0.6636632200886263\n"
          ]
        }
      ]
    },
    {
      "cell_type": "markdown",
      "source": [
        "## SVM\n"
      ],
      "metadata": {
        "id": "hbIV_xQtkBQh"
      }
    },
    {
      "cell_type": "code",
      "source": [
        "from sklearn.ensemble import RandomForestClassifier, GradientBoostingClassifier, VotingClassifier\n",
        "from sklearn.model_selection import GridSearchCV, cross_validate, RandomizedSearchCV, validation_curve\n",
        "from sklearn import datasets, svm\n",
        "from sklearn.svm import SVC"
      ],
      "metadata": {
        "id": "fp1Y8GztkGCw"
      },
      "execution_count": null,
      "outputs": []
    },
    {
      "cell_type": "code",
      "source": [
        "svm = SVC(kernel='rbf', random_state=0, gamma=.10, C=1.0)\n",
        "svm.fit(X_train, y_train)\n"
      ],
      "metadata": {
        "colab": {
          "base_uri": "https://localhost:8080/",
          "height": 75
        },
        "id": "TmDbAyznlmnn",
        "outputId": "6b1981e6-70a5-4a7e-c774-57035339b931"
      },
      "execution_count": null,
      "outputs": [
        {
          "output_type": "execute_result",
          "data": {
            "text/plain": [
              "SVC(gamma=0.1, random_state=0)"
            ],
            "text/html": [
              "<style>#sk-container-id-2 {color: black;background-color: white;}#sk-container-id-2 pre{padding: 0;}#sk-container-id-2 div.sk-toggleable {background-color: white;}#sk-container-id-2 label.sk-toggleable__label {cursor: pointer;display: block;width: 100%;margin-bottom: 0;padding: 0.3em;box-sizing: border-box;text-align: center;}#sk-container-id-2 label.sk-toggleable__label-arrow:before {content: \"▸\";float: left;margin-right: 0.25em;color: #696969;}#sk-container-id-2 label.sk-toggleable__label-arrow:hover:before {color: black;}#sk-container-id-2 div.sk-estimator:hover label.sk-toggleable__label-arrow:before {color: black;}#sk-container-id-2 div.sk-toggleable__content {max-height: 0;max-width: 0;overflow: hidden;text-align: left;background-color: #f0f8ff;}#sk-container-id-2 div.sk-toggleable__content pre {margin: 0.2em;color: black;border-radius: 0.25em;background-color: #f0f8ff;}#sk-container-id-2 input.sk-toggleable__control:checked~div.sk-toggleable__content {max-height: 200px;max-width: 100%;overflow: auto;}#sk-container-id-2 input.sk-toggleable__control:checked~label.sk-toggleable__label-arrow:before {content: \"▾\";}#sk-container-id-2 div.sk-estimator input.sk-toggleable__control:checked~label.sk-toggleable__label {background-color: #d4ebff;}#sk-container-id-2 div.sk-label input.sk-toggleable__control:checked~label.sk-toggleable__label {background-color: #d4ebff;}#sk-container-id-2 input.sk-hidden--visually {border: 0;clip: rect(1px 1px 1px 1px);clip: rect(1px, 1px, 1px, 1px);height: 1px;margin: -1px;overflow: hidden;padding: 0;position: absolute;width: 1px;}#sk-container-id-2 div.sk-estimator {font-family: monospace;background-color: #f0f8ff;border: 1px dotted black;border-radius: 0.25em;box-sizing: border-box;margin-bottom: 0.5em;}#sk-container-id-2 div.sk-estimator:hover {background-color: #d4ebff;}#sk-container-id-2 div.sk-parallel-item::after {content: \"\";width: 100%;border-bottom: 1px solid gray;flex-grow: 1;}#sk-container-id-2 div.sk-label:hover label.sk-toggleable__label {background-color: #d4ebff;}#sk-container-id-2 div.sk-serial::before {content: \"\";position: absolute;border-left: 1px solid gray;box-sizing: border-box;top: 0;bottom: 0;left: 50%;z-index: 0;}#sk-container-id-2 div.sk-serial {display: flex;flex-direction: column;align-items: center;background-color: white;padding-right: 0.2em;padding-left: 0.2em;position: relative;}#sk-container-id-2 div.sk-item {position: relative;z-index: 1;}#sk-container-id-2 div.sk-parallel {display: flex;align-items: stretch;justify-content: center;background-color: white;position: relative;}#sk-container-id-2 div.sk-item::before, #sk-container-id-2 div.sk-parallel-item::before {content: \"\";position: absolute;border-left: 1px solid gray;box-sizing: border-box;top: 0;bottom: 0;left: 50%;z-index: -1;}#sk-container-id-2 div.sk-parallel-item {display: flex;flex-direction: column;z-index: 1;position: relative;background-color: white;}#sk-container-id-2 div.sk-parallel-item:first-child::after {align-self: flex-end;width: 50%;}#sk-container-id-2 div.sk-parallel-item:last-child::after {align-self: flex-start;width: 50%;}#sk-container-id-2 div.sk-parallel-item:only-child::after {width: 0;}#sk-container-id-2 div.sk-dashed-wrapped {border: 1px dashed gray;margin: 0 0.4em 0.5em 0.4em;box-sizing: border-box;padding-bottom: 0.4em;background-color: white;}#sk-container-id-2 div.sk-label label {font-family: monospace;font-weight: bold;display: inline-block;line-height: 1.2em;}#sk-container-id-2 div.sk-label-container {text-align: center;}#sk-container-id-2 div.sk-container {/* jupyter's `normalize.less` sets `[hidden] { display: none; }` but bootstrap.min.css set `[hidden] { display: none !important; }` so we also need the `!important` here to be able to override the default hidden behavior on the sphinx rendered scikit-learn.org. See: https://github.com/scikit-learn/scikit-learn/issues/21755 */display: inline-block !important;position: relative;}#sk-container-id-2 div.sk-text-repr-fallback {display: none;}</style><div id=\"sk-container-id-2\" class=\"sk-top-container\"><div class=\"sk-text-repr-fallback\"><pre>SVC(gamma=0.1, random_state=0)</pre><b>In a Jupyter environment, please rerun this cell to show the HTML representation or trust the notebook. <br />On GitHub, the HTML representation is unable to render, please try loading this page with nbviewer.org.</b></div><div class=\"sk-container\" hidden><div class=\"sk-item\"><div class=\"sk-estimator sk-toggleable\"><input class=\"sk-toggleable__control sk-hidden--visually\" id=\"sk-estimator-id-2\" type=\"checkbox\" checked><label for=\"sk-estimator-id-2\" class=\"sk-toggleable__label sk-toggleable__label-arrow\">SVC</label><div class=\"sk-toggleable__content\"><pre>SVC(gamma=0.1, random_state=0)</pre></div></div></div></div></div>"
            ]
          },
          "metadata": {},
          "execution_count": 130
        }
      ]
    },
    {
      "cell_type": "code",
      "source": [
        "\n",
        "print(\"train accuracy:\",svm.score(X_train,y_train))\n",
        "print(\"test accuracy:\",svm.score(X_test,y_test))"
      ],
      "metadata": {
        "colab": {
          "base_uri": "https://localhost:8080/"
        },
        "id": "xeJfPznNVmLo",
        "outputId": "dedb05b8-a043-4b8c-ffeb-b89e286f4d5f"
      },
      "execution_count": null,
      "outputs": [
        {
          "output_type": "stream",
          "name": "stdout",
          "text": [
            "train accuracy: 0.8780096308186196\n",
            "test accuracy: 0.7947761194029851\n"
          ]
        }
      ]
    },
    {
      "cell_type": "code",
      "source": [
        "y_pred = svm.predict(X_test)\n",
        "print(y_pred)"
      ],
      "metadata": {
        "colab": {
          "base_uri": "https://localhost:8080/"
        },
        "id": "Pcb9UhrElugk",
        "outputId": "9fc0d158-66d6-4c4e-9a3a-0ace144c609a"
      },
      "execution_count": null,
      "outputs": [
        {
          "output_type": "stream",
          "name": "stdout",
          "text": [
            "[0 1 0 0 1 0 0 0 0 0 1 0 0 0 1 0 0 0 1 0 0 0 1 0 1 0 0 1 0 0 0 0 0 1 0 0 0\n",
            " 1 0 1 1 0 1 1 0 0 0 1 1 0 1 1 0 0 0 1 0 0 0 0 1 0 0 1 1 1 1 0 0 0 1 0 0 0\n",
            " 0 0 1 0 0 0 1 1 0 0 0 0 0 0 0 0 1 1 0 0 0 0 1 0 0 1 0 1 1 0 0 1 0 0 0 0 0\n",
            " 0 0 1 1 1 1 0 1 0 0 1 1 0 1 0 0 1 0 0 0 1 0 1 0 0 0 0 0 1 0 0 0 1 0 1 0 0\n",
            " 0 0 1 0 1 0 1 0 0 0 1 0 1 0 1 0 0 1 0 0 0 0 1 0 1 0 0 0 1 1 0 0 0 0 1 0 0\n",
            " 1 1 0 0 1 0 0 1 0 0 0 0 0 0 0 0 0 0 0 0 1 0 1 1 0 0 0 0 1 0 1 1 0 1 1 0 0\n",
            " 1 1 0 1 1 1 1 1 1 1 1 0 1 0 0 1 1 0 0 0 0 0 0 0 0 1 1 1 1 0 0 0 0 1 0 0 1\n",
            " 0 0 0 0 0 0 0 0 0]\n"
          ]
        }
      ]
    },
    {
      "cell_type": "code",
      "source": [
        "cm_svm = confusion_matrix(y_test, y_pred, normalize='true')\n",
        "\n",
        "labels = sorted(y_test.unique())\n",
        "\n",
        "plt.figure(figsize=(8, 6))\n",
        "sns.heatmap(cm_svm, annot=True, cmap='BuPu', xticklabels=labels, yticklabels=labels)\n",
        "plt.title('Confusion Matrix - Support Vector Machine')\n",
        "plt.xlabel('Predicted Labels')\n",
        "plt.ylabel('True Labels')\n",
        "plt.show()"
      ],
      "metadata": {
        "colab": {
          "base_uri": "https://localhost:8080/",
          "height": 564
        },
        "id": "CEVJlQVUqpKB",
        "outputId": "60e23ac3-186f-4e64-dbc5-9705c4c64e04"
      },
      "execution_count": null,
      "outputs": [
        {
          "output_type": "display_data",
          "data": {
            "text/plain": [
              "<Figure size 800x600 with 2 Axes>"
            ],
            "image/png": "[encoded data removed]"
          },
          "metadata": {}
        }
      ]
    },
    {
      "cell_type": "code",
      "source": [
        "accuracy = accuracy_score(y_test, y_pred) * 100\n",
        "print(f\"Accuracy: {accuracy:.2f}%\")\n",
        "\n",
        "report=classification_report(y_test, svm.predict(X_test))\n",
        "print(\"Classification Report:\")\n",
        "\n",
        "lines = report.split('\\n')\n",
        "for line in lines:\n",
        "    print(line)"
      ],
      "metadata": {
        "colab": {
          "base_uri": "https://localhost:8080/"
        },
        "id": "AO0tHwhmlxVw",
        "outputId": "8b301131-ff5c-4a4a-9f83-7c0c1dfddfda"
      },
      "execution_count": null,
      "outputs": [
        {
          "output_type": "stream",
          "name": "stdout",
          "text": [
            "Accuracy: 79.48%\n",
            "Classification Report:\n",
            "              precision    recall  f1-score   support\n",
            "\n",
            "           0       0.79      0.89      0.83       157\n",
            "           1       0.80      0.67      0.73       111\n",
            "\n",
            "    accuracy                           0.79       268\n",
            "   macro avg       0.80      0.78      0.78       268\n",
            "weighted avg       0.80      0.79      0.79       268\n",
            "\n"
          ]
        }
      ]
    },
    {
      "cell_type": "code",
      "source": [
        "from sklearn.preprocessing import label_binarize\n",
        "\n",
        "y_scores = svm.decision_function(X_test)\n",
        "y_test_bin = label_binarize(y_test, classes=svm.classes_)\n",
        "\n",
        "auc_score = roc_auc_score(y_test_bin, y_scores, average='weighted', multi_class='ovr')\n",
        "print(\"ROC AUC Score:\", auc_score)"
      ],
      "metadata": {
        "colab": {
          "base_uri": "https://localhost:8080/"
        },
        "id": "ffazqjIWl3re",
        "outputId": "f6e07fb2-ed5a-49cb-bf31-739dfdbe7491"
      },
      "execution_count": null,
      "outputs": [
        {
          "output_type": "stream",
          "name": "stdout",
          "text": [
            "ROC AUC Score: 0.8416824467779882\n"
          ]
        }
      ]
    },
    {
      "cell_type": "code",
      "source": [
        "roc_auc_test = roc_auc_score(y_test, y_scores)\n",
        "fpr, tpr, _ = roc_curve(y_test, y_scores)\n",
        "print(\"Test ROC AUC:\", roc_auc_test)\n",
        "\n",
        "plt.figure(figsize=(8, 6))\n",
        "plt.plot(fpr, tpr, label='ROC Curve (area = {:.2f})'.format(roc_auc_test))\n",
        "plt.plot([0, 1], [0, 1], 'k--', label='Random')\n",
        "plt.xlabel('False Positive Rate')\n",
        "plt.ylabel('True Positive Rate')\n",
        "plt.title('ROC Curve')\n",
        "plt.legend()\n",
        "plt.show()"
      ],
      "metadata": {
        "colab": {
          "base_uri": "https://localhost:8080/",
          "height": 582
        },
        "id": "ApVntXMKqQWW",
        "outputId": "c5e46b6e-96a1-41ef-eb0e-bdf438146a99"
      },
      "execution_count": null,
      "outputs": [
        {
          "output_type": "stream",
          "name": "stdout",
          "text": [
            "Test ROC AUC: 0.8416824467779882\n"
          ]
        },
        {
          "output_type": "display_data",
          "data": {
            "text/plain": [
              "<Figure size 800x600 with 1 Axes>"
            ],
            "image/png": "[encoded data removed]"
          },
          "metadata": {}
        }
      ]
    },
    {
      "cell_type": "code",
      "source": [
        "conf_matrix = confusion_matrix(y_test, y_pred)\n",
        "\n",
        "TP = conf_matrix[1, 1]\n",
        "TN = conf_matrix[0, 0]\n",
        "FP = conf_matrix[0, 1]\n",
        "FN = conf_matrix[1, 0]\n",
        "\n",
        "sensitivity = TP / (TP + FN)\n",
        "specificity = TN / (TN + FP)\n",
        "\n",
        "print(\"Sensitivity:\", sensitivity)\n",
        "print(\"Specificity:\", specificity)"
      ],
      "metadata": {
        "colab": {
          "base_uri": "https://localhost:8080/"
        },
        "id": "uw8u0oWtl671",
        "outputId": "a6ea73d2-bc20-4c70-e1f4-bf9c7e7463f8"
      },
      "execution_count": null,
      "outputs": [
        {
          "output_type": "stream",
          "name": "stdout",
          "text": [
            "Sensitivity: 0.6666666666666666\n",
            "Specificity: 0.8853503184713376\n"
          ]
        }
      ]
    },
    {
      "cell_type": "code",
      "source": [
        "observed_accuracy = accuracy_score(y_test, y_pred)\n",
        "expected_accuracy = ((TN + FP) * (TN + FN) + (FP + TP) * (FN + TP)) / (len(y_test) ** 2)\n",
        "kappa = (observed_accuracy - expected_accuracy) / (1 - expected_accuracy)\n",
        "print(\"Kappa:\", kappa)"
      ],
      "metadata": {
        "colab": {
          "base_uri": "https://localhost:8080/"
        },
        "id": "6Qb8uFuTl_CO",
        "outputId": "e8bd5018-3151-4e27-ad41-e4cafe53b30b"
      },
      "execution_count": null,
      "outputs": [
        {
          "output_type": "stream",
          "name": "stdout",
          "text": [
            "Kappa: 0.5662154208357858\n"
          ]
        }
      ]
    },
    {
      "cell_type": "markdown",
      "source": [
        "## Karar Ağaçları\n"
      ],
      "metadata": {
        "id": "rzAcOzoOkHKC"
      }
    },
    {
      "cell_type": "code",
      "source": [
        "from sklearn.tree import DecisionTreeClassifier\n",
        "from sklearn.model_selection import GridSearchCV\n",
        "\n",
        "tree = DecisionTreeClassifier(random_state=122)\n",
        "\n",
        "param_grid = {\n",
        "    'criterion': ['gini', 'entropy'],\n",
        "    'splitter': ['best', 'random'],\n",
        "    'max_depth': [10, 20, 30],\n",
        "    'min_samples_split': [2, 5, 10],\n",
        "    'min_samples_leaf': [2, 4]\n",
        "}"
      ],
      "metadata": {
        "id": "JDT-DwppkLE6"
      },
      "execution_count": null,
      "outputs": []
    },
    {
      "cell_type": "code",
      "source": [
        "grid_search_tree = GridSearchCV(tree, param_grid, cv=5, scoring='accuracy', n_jobs=-1)\n",
        "grid_search_tree.fit(X_train, y_train)\n",
        "\n",
        "print('Best Parameters: ', grid_search_tree.best_params_)\n",
        "print('Best Accuracy: ', grid_search_tree.best_score_)"
      ],
      "metadata": {
        "colab": {
          "base_uri": "https://localhost:8080/"
        },
        "id": "siqpKrdRmHKO",
        "outputId": "c320593e-d7c2-457f-becb-b51409d1b3df"
      },
      "execution_count": null,
      "outputs": [
        {
          "output_type": "stream",
          "name": "stdout",
          "text": [
            "Best Parameters:  {'criterion': 'entropy', 'max_depth': 20, 'min_samples_leaf': 2, 'min_samples_split': 5, 'splitter': 'random'}\n",
            "Best Accuracy:  0.8073548387096775\n"
          ]
        }
      ]
    },
    {
      "cell_type": "code",
      "source": [
        "best_tree = grid_search_tree.best_estimator_\n",
        "\n",
        "test_accuracy = best_tree.score(X_test, y_test)\n",
        "print('Test Accuracy: ', test_accuracy)"
      ],
      "metadata": {
        "colab": {
          "base_uri": "https://localhost:8080/"
        },
        "id": "KqQx9x1CmHie",
        "outputId": "9f0596a6-e3e5-4803-9491-08e3d9f269f4"
      },
      "execution_count": null,
      "outputs": [
        {
          "output_type": "stream",
          "name": "stdout",
          "text": [
            "Test Accuracy:  0.7574626865671642\n"
          ]
        }
      ]
    },
    {
      "cell_type": "code",
      "source": [
        "y_pred = best_tree.predict(X_test)\n",
        "\n",
        "labels = y_test.unique()\n",
        "\n",
        "cm_tree = confusion_matrix(y_test, y_pred, normalize='true')\n",
        "plt.figure()\n",
        "sns.heatmap(cm_tree, annot=True, cmap='BuPu', xticklabels=labels, yticklabels=labels)\n",
        "plt.title('Confusion Matrix - Decision Tree')\n",
        "plt.xlabel('Predicted Labels')\n",
        "plt.ylabel('True Labels')\n",
        "plt.show()"
      ],
      "metadata": {
        "colab": {
          "base_uri": "https://localhost:8080/",
          "height": 472
        },
        "id": "tRVpPl06mH2-",
        "outputId": "01558180-a8ec-46df-f9d9-9cb05797bbec"
      },
      "execution_count": null,
      "outputs": [
        {
          "output_type": "display_data",
          "data": {
            "text/plain": [
              "<Figure size 640x480 with 2 Axes>"
            ],
            "image/png": "[encoded data removed]"
          },
          "metadata": {}
        }
      ]
    },
    {
      "cell_type": "code",
      "source": [
        "report = classification_report(y_test, y_pred)\n",
        "\n",
        "print(\"Classification Report:\")\n",
        "print(report)"
      ],
      "metadata": {
        "colab": {
          "base_uri": "https://localhost:8080/"
        },
        "id": "oqunKM3YmIOM",
        "outputId": "3007f5f4-f339-47d9-bac3-f6d23ee8f9ee"
      },
      "execution_count": null,
      "outputs": [
        {
          "output_type": "stream",
          "name": "stdout",
          "text": [
            "Classification Report:\n",
            "              precision    recall  f1-score   support\n",
            "\n",
            "           0       0.77      0.84      0.80       157\n",
            "           1       0.74      0.64      0.69       111\n",
            "\n",
            "    accuracy                           0.76       268\n",
            "   macro avg       0.75      0.74      0.74       268\n",
            "weighted avg       0.76      0.76      0.75       268\n",
            "\n"
          ]
        }
      ]
    },
    {
      "cell_type": "code",
      "source": [
        "y_test_pred_proba = best_tree.predict_proba(X_test)[:, 1]\n",
        "\n",
        "roc_auc_test = roc_auc_score(y_test, y_test_pred_proba)\n",
        "fpr, tpr, _ = roc_curve(y_test, y_test_pred_proba)\n",
        "print(\"Test ROC AUC:\", roc_auc_test)\n",
        "\n",
        "plt.figure(figsize=(8, 6))\n",
        "plt.plot(fpr, tpr, label='ROC Curve (area = {:.2f})'.format(roc_auc_test))\n",
        "plt.plot([0, 1], [0, 1], 'k--', label='Random')\n",
        "plt.xlabel('False Positive Rate')\n",
        "plt.ylabel('True Positive Rate')\n",
        "plt.title('ROC Curve')\n",
        "plt.legend()\n",
        "plt.show()"
      ],
      "metadata": {
        "colab": {
          "base_uri": "https://localhost:8080/",
          "height": 582
        },
        "id": "07w_pWwpm_sz",
        "outputId": "210c97f5-61cf-4c2d-bf77-5141d158311a"
      },
      "execution_count": null,
      "outputs": [
        {
          "output_type": "stream",
          "name": "stdout",
          "text": [
            "Test ROC AUC: 0.7662822057726517\n"
          ]
        },
        {
          "output_type": "display_data",
          "data": {
            "text/plain": [
              "<Figure size 800x600 with 1 Axes>"
            ],
            "image/png": "[encoded data removed]"
          },
          "metadata": {}
        }
      ]
    },
    {
      "cell_type": "code",
      "source": [
        "conf_matrix = confusion_matrix(y_test, y_pred)\n",
        "\n",
        "TP = conf_matrix[1, 1]\n",
        "TN = conf_matrix[0, 0]\n",
        "FP = conf_matrix[0, 1]\n",
        "FN = conf_matrix[1, 0]\n",
        "\n",
        "specificity = TN / (TN + FP)\n",
        "sensitivity = TP / (TP + FN)\n",
        "\n",
        "print(\"Specificity:\", specificity)\n",
        "print(\"Sensitivity:\", sensitivity)\n"
      ],
      "metadata": {
        "colab": {
          "base_uri": "https://localhost:8080/"
        },
        "id": "ejiKG9U0nW-z",
        "outputId": "5f57685e-dbe0-4b3d-ca07-1302149170f9"
      },
      "execution_count": null,
      "outputs": [
        {
          "output_type": "stream",
          "name": "stdout",
          "text": [
            "Specificity: 0.8407643312101911\n",
            "Sensitivity: 0.6396396396396397\n"
          ]
        }
      ]
    },
    {
      "cell_type": "code",
      "source": [
        "observed_accuracy = (TP + TN) / (TP + TN + FP + FN)\n",
        "expected_accuracy = ((TN + FP) * (TN + FN) + (FP + TP) * (FN + TP)) / ((TP + TN + FP + FN) ** 2)\n",
        "kappa = (observed_accuracy - expected_accuracy) / (1 - expected_accuracy)\n",
        "print(\"Kappa:\", kappa)"
      ],
      "metadata": {
        "colab": {
          "base_uri": "https://localhost:8080/"
        },
        "id": "dYFVwHSnnYm2",
        "outputId": "b48824e6-9988-477e-9e03-cb0de9db5e5d"
      },
      "execution_count": null,
      "outputs": [
        {
          "output_type": "stream",
          "name": "stdout",
          "text": [
            "Kappa: 0.4901065449010655\n"
          ]
        }
      ]
    },
    {
      "cell_type": "markdown",
      "source": [
        "## Yapay Sinir Ağları\n"
      ],
      "metadata": {
        "id": "rLT40PqUkL2C"
      }
    },
    {
      "cell_type": "code",
      "source": [
        "import tensorflow as tf\n",
        "from tensorflow.keras.models import Sequential\n",
        "from tensorflow.keras.layers import Dense\n",
        "from sklearn.model_selection import train_test_split\n",
        "from sklearn.preprocessing import StandardScaler\n",
        "from sklearn.preprocessing import LabelEncoder"
      ],
      "metadata": {
        "id": "VnK-1_S0kMOv"
      },
      "execution_count": null,
      "outputs": []
    },
    {
      "cell_type": "code",
      "source": [
        "num_classes = len(set(y_train))\n",
        "\n",
        "model = Sequential()\n",
        "model.add(Dense(units=64, activation='relu', input_dim=X_train.shape[1]))\n",
        "model.add(Dense(units=32, activation='relu'))\n",
        "model.add(Dense(units=num_classes, activation='sigmoid'))\n",
        "\n",
        "\n",
        "model.compile(optimizer='adam', loss='sparse_categorical_crossentropy', metrics=['accuracy'])\n",
        "model.fit(X_train, y_train, epochs=15, batch_size=32, validation_data=(X_test, y_test))"
      ],
      "metadata": {
        "colab": {
          "base_uri": "https://localhost:8080/"
        },
        "id": "o_lz6gCzmIrH",
        "outputId": "40671064-8958-4fe1-b5b8-51110ba89f69"
      },
      "execution_count": null,
      "outputs": [
        {
          "output_type": "stream",
          "name": "stdout",
          "text": [
            "Epoch 1/15\n",
            "20/20 [==============================] - 1s 16ms/step - loss: 0.5290 - accuracy: 0.7464 - val_loss: 0.4945 - val_accuracy: 0.7799\n",
            "Epoch 2/15\n",
            "20/20 [==============================] - 0s 4ms/step - loss: 0.4433 - accuracy: 0.8186 - val_loss: 0.4702 - val_accuracy: 0.8134\n",
            "Epoch 3/15\n",
            "20/20 [==============================] - 0s 4ms/step - loss: 0.4068 - accuracy: 0.8411 - val_loss: 0.4678 - val_accuracy: 0.7873\n",
            "Epoch 4/15\n",
            "20/20 [==============================] - 0s 4ms/step - loss: 0.3859 - accuracy: 0.8475 - val_loss: 0.4637 - val_accuracy: 0.8060\n",
            "Epoch 5/15\n",
            "20/20 [==============================] - 0s 4ms/step - loss: 0.3721 - accuracy: 0.8555 - val_loss: 0.4563 - val_accuracy: 0.8172\n",
            "Epoch 6/15\n",
            "20/20 [==============================] - 0s 4ms/step - loss: 0.3617 - accuracy: 0.8587 - val_loss: 0.4564 - val_accuracy: 0.8097\n",
            "Epoch 7/15\n",
            "20/20 [==============================] - 0s 4ms/step - loss: 0.3495 - accuracy: 0.8604 - val_loss: 0.4728 - val_accuracy: 0.8134\n",
            "Epoch 8/15\n",
            "20/20 [==============================] - 0s 4ms/step - loss: 0.3414 - accuracy: 0.8716 - val_loss: 0.4552 - val_accuracy: 0.8060\n",
            "Epoch 9/15\n",
            "20/20 [==============================] - 0s 4ms/step - loss: 0.3299 - accuracy: 0.8700 - val_loss: 0.4581 - val_accuracy: 0.8022\n",
            "Epoch 10/15\n",
            "20/20 [==============================] - 0s 4ms/step - loss: 0.3240 - accuracy: 0.8716 - val_loss: 0.4604 - val_accuracy: 0.8060\n",
            "Epoch 11/15\n",
            "20/20 [==============================] - 0s 4ms/step - loss: 0.3147 - accuracy: 0.8780 - val_loss: 0.4544 - val_accuracy: 0.8022\n",
            "Epoch 12/15\n",
            "20/20 [==============================] - 0s 4ms/step - loss: 0.3108 - accuracy: 0.8876 - val_loss: 0.4605 - val_accuracy: 0.7948\n",
            "Epoch 13/15\n",
            "20/20 [==============================] - 0s 4ms/step - loss: 0.3040 - accuracy: 0.8796 - val_loss: 0.4821 - val_accuracy: 0.7873\n",
            "Epoch 14/15\n",
            "20/20 [==============================] - 0s 4ms/step - loss: 0.3066 - accuracy: 0.8796 - val_loss: 0.4648 - val_accuracy: 0.8022\n",
            "Epoch 15/15\n",
            "20/20 [==============================] - 0s 4ms/step - loss: 0.2922 - accuracy: 0.8812 - val_loss: 0.4631 - val_accuracy: 0.7985\n"
          ]
        },
        {
          "output_type": "execute_result",
          "data": {
            "text/plain": [
              "<keras.src.callbacks.History at 0x781ca48fd3f0>"
            ]
          },
          "metadata": {},
          "execution_count": 148
        }
      ]
    },
    {
      "cell_type": "code",
      "source": [
        "y_train_pred_proba = model.predict(X_train)\n",
        "y_train_pred = (y_train_pred_proba > 0.5).astype(int)"
      ],
      "metadata": {
        "colab": {
          "base_uri": "https://localhost:8080/"
        },
        "id": "yiLaCuy5mJDJ",
        "outputId": "f2e1ff63-e00e-4297-fd41-c142a339257a"
      },
      "execution_count": null,
      "outputs": [
        {
          "output_type": "stream",
          "name": "stdout",
          "text": [
            "20/20 [==============================] - 0s 2ms/step\n"
          ]
        }
      ]
    },
    {
      "cell_type": "code",
      "source": [
        "y_test_pred_proba = model.predict(X_test)\n",
        "y_test_pred = (y_test_pred_proba > 0.5).astype(int)"
      ],
      "metadata": {
        "colab": {
          "base_uri": "https://localhost:8080/"
        },
        "id": "VAExsCkMn0QT",
        "outputId": "1a5b270e-a82b-4d7c-b71c-eff002836819"
      },
      "execution_count": null,
      "outputs": [
        {
          "output_type": "stream",
          "name": "stdout",
          "text": [
            "9/9 [==============================] - 0s 2ms/step\n"
          ]
        }
      ]
    },
    {
      "cell_type": "code",
      "source": [
        "# Train accuracy\n",
        "y_train_pred_proba = model.predict(X_train)\n",
        "y_train_pred = y_train_pred_proba.argmax(axis=1)\n",
        "train_accuracy = accuracy_score(y_train, y_train_pred)\n",
        "print(\"Train Accuracy:\", train_accuracy)\n",
        "\n",
        "# Test accuracy\n",
        "y_test_pred_proba = model.predict(X_test)\n",
        "y_test_pred = y_test_pred_proba.argmax(axis=1)\n",
        "test_accuracy = accuracy_score(y_test, y_test_pred)\n",
        "print(\"Test Accuracy:\", test_accuracy)"
      ],
      "metadata": {
        "colab": {
          "base_uri": "https://localhost:8080/"
        },
        "id": "Qxxm0PN7n3vx",
        "outputId": "2d6cd250-3d86-4963-f69e-7f93f5a4a4f7"
      },
      "execution_count": null,
      "outputs": [
        {
          "output_type": "stream",
          "name": "stdout",
          "text": [
            "20/20 [==============================] - 0s 2ms/step\n",
            "Train Accuracy: 0.8876404494382022\n",
            "9/9 [==============================] - 0s 2ms/step\n",
            "Test Accuracy: 0.7985074626865671\n"
          ]
        }
      ]
    },
    {
      "cell_type": "code",
      "source": [
        "cm_ann = confusion_matrix(y_test, y_test_pred, normalize='true')\n",
        "\n",
        "labels = sorted(y_test.unique())\n",
        "\n",
        "plt.figure(figsize=(8, 6))\n",
        "sns.heatmap(cm_ann, annot=True, cmap='BuPu', xticklabels=labels, yticklabels=labels)\n",
        "plt.title('Confusion Matrix - Neural Network')\n",
        "plt.xlabel('Predicted Labels')\n",
        "plt.ylabel('True Labels')\n",
        "plt.show()"
      ],
      "metadata": {
        "colab": {
          "base_uri": "https://localhost:8080/",
          "height": 564
        },
        "id": "k8l2ch2go6Vq",
        "outputId": "f217ecdc-064d-4d71-98b4-ee11bf397b41"
      },
      "execution_count": null,
      "outputs": [
        {
          "output_type": "display_data",
          "data": {
            "text/plain": [
              "<Figure size 800x600 with 2 Axes>"
            ],
            "image/png": "[encoded data removed]"
          },
          "metadata": {}
        }
      ]
    },
    {
      "cell_type": "code",
      "source": [
        "conf_matrix = confusion_matrix(y_test, y_test_pred)\n",
        "print(\"Confusion Matrix:\")\n",
        "print(conf_matrix)\n",
        "\n",
        "class_report = classification_report(y_test, y_test_pred)\n",
        "print(\"Classification Report:\")\n",
        "print(class_report)"
      ],
      "metadata": {
        "colab": {
          "base_uri": "https://localhost:8080/"
        },
        "id": "vMsx0VQBn5st",
        "outputId": "ce34edf2-0dc3-45d3-d0d4-e828f7df02c5"
      },
      "execution_count": null,
      "outputs": [
        {
          "output_type": "stream",
          "name": "stdout",
          "text": [
            "Confusion Matrix:\n",
            "[[137  20]\n",
            " [ 34  77]]\n",
            "Classification Report:\n",
            "              precision    recall  f1-score   support\n",
            "\n",
            "           0       0.80      0.87      0.84       157\n",
            "           1       0.79      0.69      0.74       111\n",
            "\n",
            "    accuracy                           0.80       268\n",
            "   macro avg       0.80      0.78      0.79       268\n",
            "weighted avg       0.80      0.80      0.80       268\n",
            "\n"
          ]
        }
      ]
    },
    {
      "cell_type": "code",
      "source": [
        "conf_matrix = confusion_matrix(y_test, y_test_pred)\n",
        "\n",
        "TP = conf_matrix[1, 1]\n",
        "TN = conf_matrix[0, 0]\n",
        "FP = conf_matrix[0, 1]\n",
        "FN = conf_matrix[1, 0]\n",
        "\n",
        "specificity = TN / (TN + FP)\n",
        "sensitivity = TP / (TP + FN)\n",
        "\n",
        "print(\"Specificity:\", specificity)\n",
        "print(\"Sensitivity:\", sensitivity)"
      ],
      "metadata": {
        "colab": {
          "base_uri": "https://localhost:8080/"
        },
        "id": "DrXq-ZLsn8dF",
        "outputId": "afcf2f29-989c-489c-e396-9c2fa4af12e9"
      },
      "execution_count": null,
      "outputs": [
        {
          "output_type": "stream",
          "name": "stdout",
          "text": [
            "Specificity: 0.8726114649681529\n",
            "Sensitivity: 0.6936936936936937\n"
          ]
        }
      ]
    },
    {
      "cell_type": "code",
      "source": [
        "observed_accuracy = (TP + TN) / (TP + TN + FP + FN)\n",
        "expected_accuracy = ((TN + FP) * (TN + FN) + (FP + TP) * (FN + TP)) / ((TP + TN + FP + FN) ** 2)\n",
        "kappa = (observed_accuracy - expected_accuracy) / (1 - expected_accuracy)\n",
        "print(\"Kappa:\", kappa)"
      ],
      "metadata": {
        "colab": {
          "base_uri": "https://localhost:8080/"
        },
        "id": "PYdqaRJ3oA5B",
        "outputId": "914ef0b0-df37-4709-c434-99881b70d787"
      },
      "execution_count": null,
      "outputs": [
        {
          "output_type": "stream",
          "name": "stdout",
          "text": [
            "Kappa: 0.576965799473838\n"
          ]
        }
      ]
    },
    {
      "cell_type": "code",
      "source": [
        "y_train_pred_proba = model.predict(X_train)\n",
        "y_train_pred_proba = y_train_pred_proba[:, 1]\n",
        "\n",
        "roc_auc_train = roc_auc_score(y_train, y_train_pred_proba)\n",
        "fpr_train, tpr_train, _ = roc_curve(y_train, y_train_pred_proba)\n",
        "\n",
        "\n",
        "print(\"Train ROC AUC:\", roc_auc_train)"
      ],
      "metadata": {
        "colab": {
          "base_uri": "https://localhost:8080/"
        },
        "id": "_59WRjNboDi0",
        "outputId": "4e37a267-9a64-4fe1-cf7a-eac7343b8698"
      },
      "execution_count": null,
      "outputs": [
        {
          "output_type": "stream",
          "name": "stdout",
          "text": [
            "20/20 [==============================] - 0s 2ms/step\n",
            "Train ROC AUC: 0.9317519215478398\n"
          ]
        }
      ]
    },
    {
      "cell_type": "code",
      "source": [
        "y_test_pred_proba = model.predict(X_test)\n",
        "y_test_pred_proba = y_test_pred_proba[:, 1]\n",
        "\n",
        "roc_auc_test = roc_auc_score(y_test, y_test_pred_proba)\n",
        "fpr_test, tpr_test, _ = roc_curve(y_test, y_test_pred_proba)\n",
        "\n",
        "print(\"Test ROC AUC:\", roc_auc_test)"
      ],
      "metadata": {
        "colab": {
          "base_uri": "https://localhost:8080/"
        },
        "id": "ozdQxKqyoEh5",
        "outputId": "5adae5fd-9767-4184-d6d6-cab9f33cf4db"
      },
      "execution_count": null,
      "outputs": [
        {
          "output_type": "stream",
          "name": "stdout",
          "text": [
            "9/9 [==============================] - 0s 4ms/step\n",
            "Test ROC AUC: 0.8272221265851839\n"
          ]
        }
      ]
    },
    {
      "cell_type": "code",
      "source": [
        "roc_auc_test = roc_auc_score(y_test, y_test_pred_proba)\n",
        "fpr, tpr, _ = roc_curve(y_test, y_test_pred_proba)\n",
        "print(\"Test ROC AUC:\", roc_auc_test)\n",
        "\n",
        "plt.figure(figsize=(8, 6))\n",
        "plt.plot(fpr, tpr, label='ROC Curve (area = {:.2f})'.format(roc_auc_test))\n",
        "plt.plot([0, 1], [0, 1], 'k--', label='Random')\n",
        "plt.xlabel('False Positive Rate')\n",
        "plt.ylabel('True Positive Rate')\n",
        "plt.title('ROC Curve')\n",
        "plt.legend()\n",
        "plt.show()"
      ],
      "metadata": {
        "colab": {
          "base_uri": "https://localhost:8080/",
          "height": 582
        },
        "id": "4IHE2su2omyT",
        "outputId": "03f250e4-0a25-416e-d0a6-8bbe870a3b62"
      },
      "execution_count": null,
      "outputs": [
        {
          "output_type": "stream",
          "name": "stdout",
          "text": [
            "Test ROC AUC: 0.8272221265851839\n"
          ]
        },
        {
          "output_type": "display_data",
          "data": {
            "text/plain": [
              "<Figure size 800x600 with 1 Axes>"
            ],
            "image/png": "[encoded data removed]"
          },
          "metadata": {}
        }
      ]
    }
  ]
}